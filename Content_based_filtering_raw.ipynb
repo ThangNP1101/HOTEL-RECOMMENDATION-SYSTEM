{
  "nbformat": 4,
  "nbformat_minor": 0,
  "metadata": {
    "colab": {
      "provenance": []
    },
    "kernelspec": {
      "name": "python3",
      "display_name": "Python 3"
    },
    "language_info": {
      "name": "python"
    }
  },
  "cells": [
    {
      "cell_type": "code",
      "source": [
        "pip install underthesea"
      ],
      "metadata": {
        "colab": {
          "base_uri": "https://localhost:8080/"
        },
        "id": "vZdJNuPr9iJd",
        "outputId": "82d5242c-f8eb-44bd-8adb-7111601a123f"
      },
      "execution_count": null,
      "outputs": [
        {
          "output_type": "stream",
          "name": "stdout",
          "text": [
            "Collecting underthesea\n",
            "  Downloading underthesea-6.8.0-py3-none-any.whl (20.9 MB)\n",
            "\u001b[2K     \u001b[90m━━━━━━━━━━━━━━━━━━━━━━━━━━━━━━━━━━━━━━━━\u001b[0m \u001b[32m20.9/20.9 MB\u001b[0m \u001b[31m54.0 MB/s\u001b[0m eta \u001b[36m0:00:00\u001b[0m\n",
            "\u001b[?25hRequirement already satisfied: Click>=6.0 in /usr/local/lib/python3.10/dist-packages (from underthesea) (8.1.7)\n",
            "Collecting python-crfsuite>=0.9.6 (from underthesea)\n",
            "  Downloading python_crfsuite-0.9.9-cp310-cp310-manylinux_2_17_x86_64.manylinux2014_x86_64.whl (993 kB)\n",
            "\u001b[2K     \u001b[90m━━━━━━━━━━━━━━━━━━━━━━━━━━━━━━━━━━━━━━━━\u001b[0m \u001b[32m993.5/993.5 kB\u001b[0m \u001b[31m61.7 MB/s\u001b[0m eta \u001b[36m0:00:00\u001b[0m\n",
            "\u001b[?25hRequirement already satisfied: nltk in /usr/local/lib/python3.10/dist-packages (from underthesea) (3.8.1)\n",
            "Requirement already satisfied: tqdm in /usr/local/lib/python3.10/dist-packages (from underthesea) (4.66.1)\n",
            "Requirement already satisfied: requests in /usr/local/lib/python3.10/dist-packages (from underthesea) (2.31.0)\n",
            "Requirement already satisfied: joblib in /usr/local/lib/python3.10/dist-packages (from underthesea) (1.3.2)\n",
            "Requirement already satisfied: scikit-learn in /usr/local/lib/python3.10/dist-packages (from underthesea) (1.2.2)\n",
            "Requirement already satisfied: PyYAML in /usr/local/lib/python3.10/dist-packages (from underthesea) (6.0.1)\n",
            "Collecting underthesea-core==1.0.4 (from underthesea)\n",
            "  Downloading underthesea_core-1.0.4-cp310-cp310-manylinux2010_x86_64.whl (657 kB)\n",
            "\u001b[2K     \u001b[90m━━━━━━━━━━━━━━━━━━━━━━━━━━━━━━━━━━━━━━━━\u001b[0m \u001b[32m657.8/657.8 kB\u001b[0m \u001b[31m40.8 MB/s\u001b[0m eta \u001b[36m0:00:00\u001b[0m\n",
            "\u001b[?25hRequirement already satisfied: regex>=2021.8.3 in /usr/local/lib/python3.10/dist-packages (from nltk->underthesea) (2023.6.3)\n",
            "Requirement already satisfied: charset-normalizer<4,>=2 in /usr/local/lib/python3.10/dist-packages (from requests->underthesea) (3.3.2)\n",
            "Requirement already satisfied: idna<4,>=2.5 in /usr/local/lib/python3.10/dist-packages (from requests->underthesea) (3.6)\n",
            "Requirement already satisfied: urllib3<3,>=1.21.1 in /usr/local/lib/python3.10/dist-packages (from requests->underthesea) (2.0.7)\n",
            "Requirement already satisfied: certifi>=2017.4.17 in /usr/local/lib/python3.10/dist-packages (from requests->underthesea) (2023.11.17)\n",
            "Requirement already satisfied: numpy>=1.17.3 in /usr/local/lib/python3.10/dist-packages (from scikit-learn->underthesea) (1.23.5)\n",
            "Requirement already satisfied: scipy>=1.3.2 in /usr/local/lib/python3.10/dist-packages (from scikit-learn->underthesea) (1.11.4)\n",
            "Requirement already satisfied: threadpoolctl>=2.0.0 in /usr/local/lib/python3.10/dist-packages (from scikit-learn->underthesea) (3.2.0)\n",
            "Installing collected packages: underthesea-core, python-crfsuite, underthesea\n",
            "Successfully installed python-crfsuite-0.9.9 underthesea-6.8.0 underthesea-core-1.0.4\n"
          ]
        }
      ]
    },
    {
      "cell_type": "code",
      "execution_count": null,
      "metadata": {
        "id": "50IufNsWofKh"
      },
      "outputs": [],
      "source": [
        "import pandas as pd\n",
        "import torch\n",
        "from transformers import AutoModel, AutoTokenizer\n",
        "import numpy as np\n",
        "from tqdm import tqdm\n",
        "from sklearn.metrics.pairwise import linear_kernel\n",
        "import re\n",
        "from sklearn.feature_extraction.text import TfidfVectorizer\n",
        "from sklearn.metrics.pairwise import linear_kernel\n",
        "import underthesea\n",
        "from underthesea import word_tokenize"
      ]
    },
    {
      "cell_type": "code",
      "source": [
        "from google.colab import drive\n",
        "drive.mount('/content/drive')"
      ],
      "metadata": {
        "colab": {
          "base_uri": "https://localhost:8080/"
        },
        "id": "DMHXoGyDldGb",
        "outputId": "77911e6d-28ec-444d-97e9-cde28d56e686"
      },
      "execution_count": null,
      "outputs": [
        {
          "output_type": "stream",
          "name": "stdout",
          "text": [
            "Drive already mounted at /content/drive; to attempt to forcibly remount, call drive.mount(\"/content/drive\", force_remount=True).\n"
          ]
        }
      ]
    },
    {
      "cell_type": "code",
      "source": [
        "stop_words = open('/content/drive/MyDrive/RS/vietnamese-stopwords.txt')\n",
        "stop_words = stop_words.read().replace(\"\\n\", \",\")\n",
        "stop_words = stop_words.replace(\" \", \"_\")\n",
        "stop_words = list(stop_words.split(\",\"))\n",
        "stop_words"
      ],
      "metadata": {
        "id": "KbcJdGAwI5iY"
      },
      "execution_count": null,
      "outputs": []
    },
    {
      "cell_type": "code",
      "source": [
        "hotel = pd.read_csv('/content/drive/MyDrive/hotels_users_ratings.csv')"
      ],
      "metadata": {
        "id": "YxviMhoEzA0m"
      },
      "execution_count": null,
      "outputs": []
    },
    {
      "cell_type": "code",
      "source": [
        "hotel['tags'] = hotel['Location'] + ' ' + hotel['Descriptions'] + ' ' + hotel['Address'] + ' ' + hotel['Name Hotel']\n",
        "hotel.head()"
      ],
      "metadata": {
        "colab": {
          "base_uri": "https://localhost:8080/",
          "height": 483
        },
        "id": "e4Eh8S3JocBm",
        "outputId": "911ae203-71e5-4a8f-c385-35fc06237d30"
      },
      "execution_count": null,
      "outputs": [
        {
          "output_type": "execute_result",
          "data": {
            "text/plain": [
              "                                           URL Hotel Location  HotelID  \\\n",
              "0  https://www.booking.com/hotel/vn/dalat-wind.vi...   Đà Lạt     4064   \n",
              "1  https://www.booking.com/hotel/vn/dalat-wind.vi...   Đà Lạt     4064   \n",
              "2  https://www.booking.com/hotel/vn/dalat-wind.vi...   Đà Lạt     4064   \n",
              "3  https://www.booking.com/hotel/vn/dalat-wind.vi...   Đà Lạt     4064   \n",
              "4  https://www.booking.com/hotel/vn/dalat-wind.vi...   Đà Lạt     4064   \n",
              "\n",
              "                Name Hotel                                       Descriptions  \\\n",
              "0  Dalat Wind Deluxe Hotel  Tọa lạc tại thành phố Đà Lạt, cách Hồ Xuân Hươ...   \n",
              "1  Dalat Wind Deluxe Hotel  Tọa lạc tại thành phố Đà Lạt, cách Hồ Xuân Hươ...   \n",
              "2  Dalat Wind Deluxe Hotel  Tọa lạc tại thành phố Đà Lạt, cách Hồ Xuân Hươ...   \n",
              "3  Dalat Wind Deluxe Hotel  Tọa lạc tại thành phố Đà Lạt, cách Hồ Xuân Hươ...   \n",
              "4  Dalat Wind Deluxe Hotel  Tọa lạc tại thành phố Đà Lạt, cách Hồ Xuân Hươ...   \n",
              "\n",
              "                                             Address  UserID  User  Rating  \\\n",
              "0  Lot R2 03-04. Golf Valley, Ward 2, Đà Lạt, Viê...    1187  Thảo       6   \n",
              "1  Lot R2 03-04. Golf Valley, Ward 2, Đà Lạt, Viê...    1284  Tran       5   \n",
              "2  Lot R2 03-04. Golf Valley, Ward 2, Đà Lạt, Viê...    5866   Tho       6   \n",
              "3  Lot R2 03-04. Golf Valley, Ward 2, Đà Lạt, Viê...    3033  Tuan       9   \n",
              "4  Lot R2 03-04. Golf Valley, Ward 2, Đà Lạt, Viê...    1406  Phan       7   \n",
              "\n",
              "                                                tags  \n",
              "0  Đà Lạt Tọa lạc tại thành phố Đà Lạt, cách Hồ X...  \n",
              "1  Đà Lạt Tọa lạc tại thành phố Đà Lạt, cách Hồ X...  \n",
              "2  Đà Lạt Tọa lạc tại thành phố Đà Lạt, cách Hồ X...  \n",
              "3  Đà Lạt Tọa lạc tại thành phố Đà Lạt, cách Hồ X...  \n",
              "4  Đà Lạt Tọa lạc tại thành phố Đà Lạt, cách Hồ X...  "
            ],
            "text/html": [
              "\n",
              "  <div id=\"df-61d82660-eee0-4c09-b51b-19e9a39a9afd\" class=\"colab-df-container\">\n",
              "    <div>\n",
              "<style scoped>\n",
              "    .dataframe tbody tr th:only-of-type {\n",
              "        vertical-align: middle;\n",
              "    }\n",
              "\n",
              "    .dataframe tbody tr th {\n",
              "        vertical-align: top;\n",
              "    }\n",
              "\n",
              "    .dataframe thead th {\n",
              "        text-align: right;\n",
              "    }\n",
              "</style>\n",
              "<table border=\"1\" class=\"dataframe\">\n",
              "  <thead>\n",
              "    <tr style=\"text-align: right;\">\n",
              "      <th></th>\n",
              "      <th>URL Hotel</th>\n",
              "      <th>Location</th>\n",
              "      <th>HotelID</th>\n",
              "      <th>Name Hotel</th>\n",
              "      <th>Descriptions</th>\n",
              "      <th>Address</th>\n",
              "      <th>UserID</th>\n",
              "      <th>User</th>\n",
              "      <th>Rating</th>\n",
              "      <th>tags</th>\n",
              "    </tr>\n",
              "  </thead>\n",
              "  <tbody>\n",
              "    <tr>\n",
              "      <th>0</th>\n",
              "      <td>https://www.booking.com/hotel/vn/dalat-wind.vi...</td>\n",
              "      <td>Đà Lạt</td>\n",
              "      <td>4064</td>\n",
              "      <td>Dalat Wind Deluxe Hotel</td>\n",
              "      <td>Tọa lạc tại thành phố Đà Lạt, cách Hồ Xuân Hươ...</td>\n",
              "      <td>Lot R2 03-04. Golf Valley, Ward 2, Đà Lạt, Viê...</td>\n",
              "      <td>1187</td>\n",
              "      <td>Thảo</td>\n",
              "      <td>6</td>\n",
              "      <td>Đà Lạt Tọa lạc tại thành phố Đà Lạt, cách Hồ X...</td>\n",
              "    </tr>\n",
              "    <tr>\n",
              "      <th>1</th>\n",
              "      <td>https://www.booking.com/hotel/vn/dalat-wind.vi...</td>\n",
              "      <td>Đà Lạt</td>\n",
              "      <td>4064</td>\n",
              "      <td>Dalat Wind Deluxe Hotel</td>\n",
              "      <td>Tọa lạc tại thành phố Đà Lạt, cách Hồ Xuân Hươ...</td>\n",
              "      <td>Lot R2 03-04. Golf Valley, Ward 2, Đà Lạt, Viê...</td>\n",
              "      <td>1284</td>\n",
              "      <td>Tran</td>\n",
              "      <td>5</td>\n",
              "      <td>Đà Lạt Tọa lạc tại thành phố Đà Lạt, cách Hồ X...</td>\n",
              "    </tr>\n",
              "    <tr>\n",
              "      <th>2</th>\n",
              "      <td>https://www.booking.com/hotel/vn/dalat-wind.vi...</td>\n",
              "      <td>Đà Lạt</td>\n",
              "      <td>4064</td>\n",
              "      <td>Dalat Wind Deluxe Hotel</td>\n",
              "      <td>Tọa lạc tại thành phố Đà Lạt, cách Hồ Xuân Hươ...</td>\n",
              "      <td>Lot R2 03-04. Golf Valley, Ward 2, Đà Lạt, Viê...</td>\n",
              "      <td>5866</td>\n",
              "      <td>Tho</td>\n",
              "      <td>6</td>\n",
              "      <td>Đà Lạt Tọa lạc tại thành phố Đà Lạt, cách Hồ X...</td>\n",
              "    </tr>\n",
              "    <tr>\n",
              "      <th>3</th>\n",
              "      <td>https://www.booking.com/hotel/vn/dalat-wind.vi...</td>\n",
              "      <td>Đà Lạt</td>\n",
              "      <td>4064</td>\n",
              "      <td>Dalat Wind Deluxe Hotel</td>\n",
              "      <td>Tọa lạc tại thành phố Đà Lạt, cách Hồ Xuân Hươ...</td>\n",
              "      <td>Lot R2 03-04. Golf Valley, Ward 2, Đà Lạt, Viê...</td>\n",
              "      <td>3033</td>\n",
              "      <td>Tuan</td>\n",
              "      <td>9</td>\n",
              "      <td>Đà Lạt Tọa lạc tại thành phố Đà Lạt, cách Hồ X...</td>\n",
              "    </tr>\n",
              "    <tr>\n",
              "      <th>4</th>\n",
              "      <td>https://www.booking.com/hotel/vn/dalat-wind.vi...</td>\n",
              "      <td>Đà Lạt</td>\n",
              "      <td>4064</td>\n",
              "      <td>Dalat Wind Deluxe Hotel</td>\n",
              "      <td>Tọa lạc tại thành phố Đà Lạt, cách Hồ Xuân Hươ...</td>\n",
              "      <td>Lot R2 03-04. Golf Valley, Ward 2, Đà Lạt, Viê...</td>\n",
              "      <td>1406</td>\n",
              "      <td>Phan</td>\n",
              "      <td>7</td>\n",
              "      <td>Đà Lạt Tọa lạc tại thành phố Đà Lạt, cách Hồ X...</td>\n",
              "    </tr>\n",
              "  </tbody>\n",
              "</table>\n",
              "</div>\n",
              "    <div class=\"colab-df-buttons\">\n",
              "\n",
              "  <div class=\"colab-df-container\">\n",
              "    <button class=\"colab-df-convert\" onclick=\"convertToInteractive('df-61d82660-eee0-4c09-b51b-19e9a39a9afd')\"\n",
              "            title=\"Convert this dataframe to an interactive table.\"\n",
              "            style=\"display:none;\">\n",
              "\n",
              "  <svg xmlns=\"http://www.w3.org/2000/svg\" height=\"24px\" viewBox=\"0 -960 960 960\">\n",
              "    <path d=\"M120-120v-720h720v720H120Zm60-500h600v-160H180v160Zm220 220h160v-160H400v160Zm0 220h160v-160H400v160ZM180-400h160v-160H180v160Zm440 0h160v-160H620v160ZM180-180h160v-160H180v160Zm440 0h160v-160H620v160Z\"/>\n",
              "  </svg>\n",
              "    </button>\n",
              "\n",
              "  <style>\n",
              "    .colab-df-container {\n",
              "      display:flex;\n",
              "      gap: 12px;\n",
              "    }\n",
              "\n",
              "    .colab-df-convert {\n",
              "      background-color: #E8F0FE;\n",
              "      border: none;\n",
              "      border-radius: 50%;\n",
              "      cursor: pointer;\n",
              "      display: none;\n",
              "      fill: #1967D2;\n",
              "      height: 32px;\n",
              "      padding: 0 0 0 0;\n",
              "      width: 32px;\n",
              "    }\n",
              "\n",
              "    .colab-df-convert:hover {\n",
              "      background-color: #E2EBFA;\n",
              "      box-shadow: 0px 1px 2px rgba(60, 64, 67, 0.3), 0px 1px 3px 1px rgba(60, 64, 67, 0.15);\n",
              "      fill: #174EA6;\n",
              "    }\n",
              "\n",
              "    .colab-df-buttons div {\n",
              "      margin-bottom: 4px;\n",
              "    }\n",
              "\n",
              "    [theme=dark] .colab-df-convert {\n",
              "      background-color: #3B4455;\n",
              "      fill: #D2E3FC;\n",
              "    }\n",
              "\n",
              "    [theme=dark] .colab-df-convert:hover {\n",
              "      background-color: #434B5C;\n",
              "      box-shadow: 0px 1px 3px 1px rgba(0, 0, 0, 0.15);\n",
              "      filter: drop-shadow(0px 1px 2px rgba(0, 0, 0, 0.3));\n",
              "      fill: #FFFFFF;\n",
              "    }\n",
              "  </style>\n",
              "\n",
              "    <script>\n",
              "      const buttonEl =\n",
              "        document.querySelector('#df-61d82660-eee0-4c09-b51b-19e9a39a9afd button.colab-df-convert');\n",
              "      buttonEl.style.display =\n",
              "        google.colab.kernel.accessAllowed ? 'block' : 'none';\n",
              "\n",
              "      async function convertToInteractive(key) {\n",
              "        const element = document.querySelector('#df-61d82660-eee0-4c09-b51b-19e9a39a9afd');\n",
              "        const dataTable =\n",
              "          await google.colab.kernel.invokeFunction('convertToInteractive',\n",
              "                                                    [key], {});\n",
              "        if (!dataTable) return;\n",
              "\n",
              "        const docLinkHtml = 'Like what you see? Visit the ' +\n",
              "          '<a target=\"_blank\" href=https://colab.research.google.com/notebooks/data_table.ipynb>data table notebook</a>'\n",
              "          + ' to learn more about interactive tables.';\n",
              "        element.innerHTML = '';\n",
              "        dataTable['output_type'] = 'display_data';\n",
              "        await google.colab.output.renderOutput(dataTable, element);\n",
              "        const docLink = document.createElement('div');\n",
              "        docLink.innerHTML = docLinkHtml;\n",
              "        element.appendChild(docLink);\n",
              "      }\n",
              "    </script>\n",
              "  </div>\n",
              "\n",
              "\n",
              "<div id=\"df-6752044e-fd46-474b-bfcd-eaab8b06aea9\">\n",
              "  <button class=\"colab-df-quickchart\" onclick=\"quickchart('df-6752044e-fd46-474b-bfcd-eaab8b06aea9')\"\n",
              "            title=\"Suggest charts\"\n",
              "            style=\"display:none;\">\n",
              "\n",
              "<svg xmlns=\"http://www.w3.org/2000/svg\" height=\"24px\"viewBox=\"0 0 24 24\"\n",
              "     width=\"24px\">\n",
              "    <g>\n",
              "        <path d=\"M19 3H5c-1.1 0-2 .9-2 2v14c0 1.1.9 2 2 2h14c1.1 0 2-.9 2-2V5c0-1.1-.9-2-2-2zM9 17H7v-7h2v7zm4 0h-2V7h2v10zm4 0h-2v-4h2v4z\"/>\n",
              "    </g>\n",
              "</svg>\n",
              "  </button>\n",
              "\n",
              "<style>\n",
              "  .colab-df-quickchart {\n",
              "      --bg-color: #E8F0FE;\n",
              "      --fill-color: #1967D2;\n",
              "      --hover-bg-color: #E2EBFA;\n",
              "      --hover-fill-color: #174EA6;\n",
              "      --disabled-fill-color: #AAA;\n",
              "      --disabled-bg-color: #DDD;\n",
              "  }\n",
              "\n",
              "  [theme=dark] .colab-df-quickchart {\n",
              "      --bg-color: #3B4455;\n",
              "      --fill-color: #D2E3FC;\n",
              "      --hover-bg-color: #434B5C;\n",
              "      --hover-fill-color: #FFFFFF;\n",
              "      --disabled-bg-color: #3B4455;\n",
              "      --disabled-fill-color: #666;\n",
              "  }\n",
              "\n",
              "  .colab-df-quickchart {\n",
              "    background-color: var(--bg-color);\n",
              "    border: none;\n",
              "    border-radius: 50%;\n",
              "    cursor: pointer;\n",
              "    display: none;\n",
              "    fill: var(--fill-color);\n",
              "    height: 32px;\n",
              "    padding: 0;\n",
              "    width: 32px;\n",
              "  }\n",
              "\n",
              "  .colab-df-quickchart:hover {\n",
              "    background-color: var(--hover-bg-color);\n",
              "    box-shadow: 0 1px 2px rgba(60, 64, 67, 0.3), 0 1px 3px 1px rgba(60, 64, 67, 0.15);\n",
              "    fill: var(--button-hover-fill-color);\n",
              "  }\n",
              "\n",
              "  .colab-df-quickchart-complete:disabled,\n",
              "  .colab-df-quickchart-complete:disabled:hover {\n",
              "    background-color: var(--disabled-bg-color);\n",
              "    fill: var(--disabled-fill-color);\n",
              "    box-shadow: none;\n",
              "  }\n",
              "\n",
              "  .colab-df-spinner {\n",
              "    border: 2px solid var(--fill-color);\n",
              "    border-color: transparent;\n",
              "    border-bottom-color: var(--fill-color);\n",
              "    animation:\n",
              "      spin 1s steps(1) infinite;\n",
              "  }\n",
              "\n",
              "  @keyframes spin {\n",
              "    0% {\n",
              "      border-color: transparent;\n",
              "      border-bottom-color: var(--fill-color);\n",
              "      border-left-color: var(--fill-color);\n",
              "    }\n",
              "    20% {\n",
              "      border-color: transparent;\n",
              "      border-left-color: var(--fill-color);\n",
              "      border-top-color: var(--fill-color);\n",
              "    }\n",
              "    30% {\n",
              "      border-color: transparent;\n",
              "      border-left-color: var(--fill-color);\n",
              "      border-top-color: var(--fill-color);\n",
              "      border-right-color: var(--fill-color);\n",
              "    }\n",
              "    40% {\n",
              "      border-color: transparent;\n",
              "      border-right-color: var(--fill-color);\n",
              "      border-top-color: var(--fill-color);\n",
              "    }\n",
              "    60% {\n",
              "      border-color: transparent;\n",
              "      border-right-color: var(--fill-color);\n",
              "    }\n",
              "    80% {\n",
              "      border-color: transparent;\n",
              "      border-right-color: var(--fill-color);\n",
              "      border-bottom-color: var(--fill-color);\n",
              "    }\n",
              "    90% {\n",
              "      border-color: transparent;\n",
              "      border-bottom-color: var(--fill-color);\n",
              "    }\n",
              "  }\n",
              "</style>\n",
              "\n",
              "  <script>\n",
              "    async function quickchart(key) {\n",
              "      const quickchartButtonEl =\n",
              "        document.querySelector('#' + key + ' button');\n",
              "      quickchartButtonEl.disabled = true;  // To prevent multiple clicks.\n",
              "      quickchartButtonEl.classList.add('colab-df-spinner');\n",
              "      try {\n",
              "        const charts = await google.colab.kernel.invokeFunction(\n",
              "            'suggestCharts', [key], {});\n",
              "      } catch (error) {\n",
              "        console.error('Error during call to suggestCharts:', error);\n",
              "      }\n",
              "      quickchartButtonEl.classList.remove('colab-df-spinner');\n",
              "      quickchartButtonEl.classList.add('colab-df-quickchart-complete');\n",
              "    }\n",
              "    (() => {\n",
              "      let quickchartButtonEl =\n",
              "        document.querySelector('#df-6752044e-fd46-474b-bfcd-eaab8b06aea9 button');\n",
              "      quickchartButtonEl.style.display =\n",
              "        google.colab.kernel.accessAllowed ? 'block' : 'none';\n",
              "    })();\n",
              "  </script>\n",
              "</div>\n",
              "    </div>\n",
              "  </div>\n"
            ]
          },
          "metadata": {},
          "execution_count": 46
        }
      ]
    },
    {
      "cell_type": "code",
      "source": [
        "hotel_new = hotel.drop(columns = ['Location', 'Descriptions', 'Address', 'UserID', 'User', 'Rating'])\n",
        "hotel_new = hotel_new.drop_duplicates()\n",
        "hotel_new = hotel_new.drop_duplicates(subset='Name Hotel')\n",
        "hotel_new = hotel_new.reset_index(drop = True)\n",
        "hotel_new"
      ],
      "metadata": {
        "colab": {
          "base_uri": "https://localhost:8080/",
          "height": 423
        },
        "id": "YyXX2rsgBq2q",
        "outputId": "e0ecb478-96a4-4288-9a52-4a7c0c9adee5"
      },
      "execution_count": null,
      "outputs": [
        {
          "output_type": "execute_result",
          "data": {
            "text/plain": [
              "                                              URL Hotel  HotelID  \\\n",
              "0     https://www.booking.com/hotel/vn/dalat-wind.vi...     4064   \n",
              "1     https://www.booking.com/hotel/vn/tropicana-2.v...     1173   \n",
              "2     https://www.booking.com/hotel/vn/reddoorz-near...     2090   \n",
              "3     https://www.booking.com/hotel/vn/royal-palace-...      175   \n",
              "4     https://www.booking.com/hotel/vn/jolie-house-a...     1113   \n",
              "...                                                 ...      ...   \n",
              "4501  https://www.booking.com/hotel/vn/hung-long-hos...     1083   \n",
              "4502  https://www.booking.com/hotel/vn/le-house-hue....     1194   \n",
              "4503  https://www.booking.com/hotel/vn/pinehill-tu-h...     2196   \n",
              "4504  https://www.booking.com/hotel/vn/snooze-villa-...     4444   \n",
              "4505  https://www.booking.com/hotel/vn/littleboss.vi...      135   \n",
              "\n",
              "                         Name Hotel  \\\n",
              "0           Dalat Wind Deluxe Hotel   \n",
              "1            Miền Nhiệt Đới 2 Hotel   \n",
              "2                        Raon Dalat   \n",
              "3                      Royal Palace   \n",
              "4                       Jolie House   \n",
              "...                             ...   \n",
              "4501               Hưng Long Hostel   \n",
              "4502                       Le House   \n",
              "4503  Pinehill Tu Hieu Hue Homestay   \n",
              "4504                  Snooze Garden   \n",
              "4505                     LittleBoss   \n",
              "\n",
              "                                                   tags  \n",
              "0     Đà Lạt Tọa lạc tại thành phố Đà Lạt, cách Hồ X...  \n",
              "1     Đà Lạt Tọa lạc tại thành phố Đà Lạt, cách Quản...  \n",
              "2     Đà Lạt Tọa lạc tại thành phố Đà Lạt, cách CLB ...  \n",
              "3     Đà Lạt Tọa lạc tại thành phố Đà Lạt, cách Công...  \n",
              "4     Đà Lạt Tọa lạc ở thành phố Đà Lạt thuộc tỉnh L...  \n",
              "...                                                 ...  \n",
              "4501  Huế Tất cả phòng nghỉ tại đây đều có khu vực g...  \n",
              "4502  Huế Căn hộ này có chỗ đỗ xe riêng miễn phí và...  \n",
              "4503  Huế Các căn tại đây có tầm nhìn ra vườn, khu v...  \n",
              "4504  Huế Mỗi chỗ nghỉ gắn náy điều hòa tại đây đều ...  \n",
              "4505  Huế Căn hộ có TV màn hình phẳng. Căn hộ nằm t...  \n",
              "\n",
              "[4506 rows x 4 columns]"
            ],
            "text/html": [
              "\n",
              "  <div id=\"df-4498add8-3e04-4cca-af00-3263e06af2eb\" class=\"colab-df-container\">\n",
              "    <div>\n",
              "<style scoped>\n",
              "    .dataframe tbody tr th:only-of-type {\n",
              "        vertical-align: middle;\n",
              "    }\n",
              "\n",
              "    .dataframe tbody tr th {\n",
              "        vertical-align: top;\n",
              "    }\n",
              "\n",
              "    .dataframe thead th {\n",
              "        text-align: right;\n",
              "    }\n",
              "</style>\n",
              "<table border=\"1\" class=\"dataframe\">\n",
              "  <thead>\n",
              "    <tr style=\"text-align: right;\">\n",
              "      <th></th>\n",
              "      <th>URL Hotel</th>\n",
              "      <th>HotelID</th>\n",
              "      <th>Name Hotel</th>\n",
              "      <th>tags</th>\n",
              "    </tr>\n",
              "  </thead>\n",
              "  <tbody>\n",
              "    <tr>\n",
              "      <th>0</th>\n",
              "      <td>https://www.booking.com/hotel/vn/dalat-wind.vi...</td>\n",
              "      <td>4064</td>\n",
              "      <td>Dalat Wind Deluxe Hotel</td>\n",
              "      <td>Đà Lạt Tọa lạc tại thành phố Đà Lạt, cách Hồ X...</td>\n",
              "    </tr>\n",
              "    <tr>\n",
              "      <th>1</th>\n",
              "      <td>https://www.booking.com/hotel/vn/tropicana-2.v...</td>\n",
              "      <td>1173</td>\n",
              "      <td>Miền Nhiệt Đới 2 Hotel</td>\n",
              "      <td>Đà Lạt Tọa lạc tại thành phố Đà Lạt, cách Quản...</td>\n",
              "    </tr>\n",
              "    <tr>\n",
              "      <th>2</th>\n",
              "      <td>https://www.booking.com/hotel/vn/reddoorz-near...</td>\n",
              "      <td>2090</td>\n",
              "      <td>Raon Dalat</td>\n",
              "      <td>Đà Lạt Tọa lạc tại thành phố Đà Lạt, cách CLB ...</td>\n",
              "    </tr>\n",
              "    <tr>\n",
              "      <th>3</th>\n",
              "      <td>https://www.booking.com/hotel/vn/royal-palace-...</td>\n",
              "      <td>175</td>\n",
              "      <td>Royal Palace</td>\n",
              "      <td>Đà Lạt Tọa lạc tại thành phố Đà Lạt, cách Công...</td>\n",
              "    </tr>\n",
              "    <tr>\n",
              "      <th>4</th>\n",
              "      <td>https://www.booking.com/hotel/vn/jolie-house-a...</td>\n",
              "      <td>1113</td>\n",
              "      <td>Jolie House</td>\n",
              "      <td>Đà Lạt Tọa lạc ở thành phố Đà Lạt thuộc tỉnh L...</td>\n",
              "    </tr>\n",
              "    <tr>\n",
              "      <th>...</th>\n",
              "      <td>...</td>\n",
              "      <td>...</td>\n",
              "      <td>...</td>\n",
              "      <td>...</td>\n",
              "    </tr>\n",
              "    <tr>\n",
              "      <th>4501</th>\n",
              "      <td>https://www.booking.com/hotel/vn/hung-long-hos...</td>\n",
              "      <td>1083</td>\n",
              "      <td>Hưng Long Hostel</td>\n",
              "      <td>Huế Tất cả phòng nghỉ tại đây đều có khu vực g...</td>\n",
              "    </tr>\n",
              "    <tr>\n",
              "      <th>4502</th>\n",
              "      <td>https://www.booking.com/hotel/vn/le-house-hue....</td>\n",
              "      <td>1194</td>\n",
              "      <td>Le House</td>\n",
              "      <td>Huế Căn hộ này có chỗ đỗ xe riêng miễn phí và...</td>\n",
              "    </tr>\n",
              "    <tr>\n",
              "      <th>4503</th>\n",
              "      <td>https://www.booking.com/hotel/vn/pinehill-tu-h...</td>\n",
              "      <td>2196</td>\n",
              "      <td>Pinehill Tu Hieu Hue Homestay</td>\n",
              "      <td>Huế Các căn tại đây có tầm nhìn ra vườn, khu v...</td>\n",
              "    </tr>\n",
              "    <tr>\n",
              "      <th>4504</th>\n",
              "      <td>https://www.booking.com/hotel/vn/snooze-villa-...</td>\n",
              "      <td>4444</td>\n",
              "      <td>Snooze Garden</td>\n",
              "      <td>Huế Mỗi chỗ nghỉ gắn náy điều hòa tại đây đều ...</td>\n",
              "    </tr>\n",
              "    <tr>\n",
              "      <th>4505</th>\n",
              "      <td>https://www.booking.com/hotel/vn/littleboss.vi...</td>\n",
              "      <td>135</td>\n",
              "      <td>LittleBoss</td>\n",
              "      <td>Huế Căn hộ có TV màn hình phẳng. Căn hộ nằm t...</td>\n",
              "    </tr>\n",
              "  </tbody>\n",
              "</table>\n",
              "<p>4506 rows × 4 columns</p>\n",
              "</div>\n",
              "    <div class=\"colab-df-buttons\">\n",
              "\n",
              "  <div class=\"colab-df-container\">\n",
              "    <button class=\"colab-df-convert\" onclick=\"convertToInteractive('df-4498add8-3e04-4cca-af00-3263e06af2eb')\"\n",
              "            title=\"Convert this dataframe to an interactive table.\"\n",
              "            style=\"display:none;\">\n",
              "\n",
              "  <svg xmlns=\"http://www.w3.org/2000/svg\" height=\"24px\" viewBox=\"0 -960 960 960\">\n",
              "    <path d=\"M120-120v-720h720v720H120Zm60-500h600v-160H180v160Zm220 220h160v-160H400v160Zm0 220h160v-160H400v160ZM180-400h160v-160H180v160Zm440 0h160v-160H620v160ZM180-180h160v-160H180v160Zm440 0h160v-160H620v160Z\"/>\n",
              "  </svg>\n",
              "    </button>\n",
              "\n",
              "  <style>\n",
              "    .colab-df-container {\n",
              "      display:flex;\n",
              "      gap: 12px;\n",
              "    }\n",
              "\n",
              "    .colab-df-convert {\n",
              "      background-color: #E8F0FE;\n",
              "      border: none;\n",
              "      border-radius: 50%;\n",
              "      cursor: pointer;\n",
              "      display: none;\n",
              "      fill: #1967D2;\n",
              "      height: 32px;\n",
              "      padding: 0 0 0 0;\n",
              "      width: 32px;\n",
              "    }\n",
              "\n",
              "    .colab-df-convert:hover {\n",
              "      background-color: #E2EBFA;\n",
              "      box-shadow: 0px 1px 2px rgba(60, 64, 67, 0.3), 0px 1px 3px 1px rgba(60, 64, 67, 0.15);\n",
              "      fill: #174EA6;\n",
              "    }\n",
              "\n",
              "    .colab-df-buttons div {\n",
              "      margin-bottom: 4px;\n",
              "    }\n",
              "\n",
              "    [theme=dark] .colab-df-convert {\n",
              "      background-color: #3B4455;\n",
              "      fill: #D2E3FC;\n",
              "    }\n",
              "\n",
              "    [theme=dark] .colab-df-convert:hover {\n",
              "      background-color: #434B5C;\n",
              "      box-shadow: 0px 1px 3px 1px rgba(0, 0, 0, 0.15);\n",
              "      filter: drop-shadow(0px 1px 2px rgba(0, 0, 0, 0.3));\n",
              "      fill: #FFFFFF;\n",
              "    }\n",
              "  </style>\n",
              "\n",
              "    <script>\n",
              "      const buttonEl =\n",
              "        document.querySelector('#df-4498add8-3e04-4cca-af00-3263e06af2eb button.colab-df-convert');\n",
              "      buttonEl.style.display =\n",
              "        google.colab.kernel.accessAllowed ? 'block' : 'none';\n",
              "\n",
              "      async function convertToInteractive(key) {\n",
              "        const element = document.querySelector('#df-4498add8-3e04-4cca-af00-3263e06af2eb');\n",
              "        const dataTable =\n",
              "          await google.colab.kernel.invokeFunction('convertToInteractive',\n",
              "                                                    [key], {});\n",
              "        if (!dataTable) return;\n",
              "\n",
              "        const docLinkHtml = 'Like what you see? Visit the ' +\n",
              "          '<a target=\"_blank\" href=https://colab.research.google.com/notebooks/data_table.ipynb>data table notebook</a>'\n",
              "          + ' to learn more about interactive tables.';\n",
              "        element.innerHTML = '';\n",
              "        dataTable['output_type'] = 'display_data';\n",
              "        await google.colab.output.renderOutput(dataTable, element);\n",
              "        const docLink = document.createElement('div');\n",
              "        docLink.innerHTML = docLinkHtml;\n",
              "        element.appendChild(docLink);\n",
              "      }\n",
              "    </script>\n",
              "  </div>\n",
              "\n",
              "\n",
              "<div id=\"df-dc12181a-2f96-4063-84fb-58fc7d62ebf1\">\n",
              "  <button class=\"colab-df-quickchart\" onclick=\"quickchart('df-dc12181a-2f96-4063-84fb-58fc7d62ebf1')\"\n",
              "            title=\"Suggest charts\"\n",
              "            style=\"display:none;\">\n",
              "\n",
              "<svg xmlns=\"http://www.w3.org/2000/svg\" height=\"24px\"viewBox=\"0 0 24 24\"\n",
              "     width=\"24px\">\n",
              "    <g>\n",
              "        <path d=\"M19 3H5c-1.1 0-2 .9-2 2v14c0 1.1.9 2 2 2h14c1.1 0 2-.9 2-2V5c0-1.1-.9-2-2-2zM9 17H7v-7h2v7zm4 0h-2V7h2v10zm4 0h-2v-4h2v4z\"/>\n",
              "    </g>\n",
              "</svg>\n",
              "  </button>\n",
              "\n",
              "<style>\n",
              "  .colab-df-quickchart {\n",
              "      --bg-color: #E8F0FE;\n",
              "      --fill-color: #1967D2;\n",
              "      --hover-bg-color: #E2EBFA;\n",
              "      --hover-fill-color: #174EA6;\n",
              "      --disabled-fill-color: #AAA;\n",
              "      --disabled-bg-color: #DDD;\n",
              "  }\n",
              "\n",
              "  [theme=dark] .colab-df-quickchart {\n",
              "      --bg-color: #3B4455;\n",
              "      --fill-color: #D2E3FC;\n",
              "      --hover-bg-color: #434B5C;\n",
              "      --hover-fill-color: #FFFFFF;\n",
              "      --disabled-bg-color: #3B4455;\n",
              "      --disabled-fill-color: #666;\n",
              "  }\n",
              "\n",
              "  .colab-df-quickchart {\n",
              "    background-color: var(--bg-color);\n",
              "    border: none;\n",
              "    border-radius: 50%;\n",
              "    cursor: pointer;\n",
              "    display: none;\n",
              "    fill: var(--fill-color);\n",
              "    height: 32px;\n",
              "    padding: 0;\n",
              "    width: 32px;\n",
              "  }\n",
              "\n",
              "  .colab-df-quickchart:hover {\n",
              "    background-color: var(--hover-bg-color);\n",
              "    box-shadow: 0 1px 2px rgba(60, 64, 67, 0.3), 0 1px 3px 1px rgba(60, 64, 67, 0.15);\n",
              "    fill: var(--button-hover-fill-color);\n",
              "  }\n",
              "\n",
              "  .colab-df-quickchart-complete:disabled,\n",
              "  .colab-df-quickchart-complete:disabled:hover {\n",
              "    background-color: var(--disabled-bg-color);\n",
              "    fill: var(--disabled-fill-color);\n",
              "    box-shadow: none;\n",
              "  }\n",
              "\n",
              "  .colab-df-spinner {\n",
              "    border: 2px solid var(--fill-color);\n",
              "    border-color: transparent;\n",
              "    border-bottom-color: var(--fill-color);\n",
              "    animation:\n",
              "      spin 1s steps(1) infinite;\n",
              "  }\n",
              "\n",
              "  @keyframes spin {\n",
              "    0% {\n",
              "      border-color: transparent;\n",
              "      border-bottom-color: var(--fill-color);\n",
              "      border-left-color: var(--fill-color);\n",
              "    }\n",
              "    20% {\n",
              "      border-color: transparent;\n",
              "      border-left-color: var(--fill-color);\n",
              "      border-top-color: var(--fill-color);\n",
              "    }\n",
              "    30% {\n",
              "      border-color: transparent;\n",
              "      border-left-color: var(--fill-color);\n",
              "      border-top-color: var(--fill-color);\n",
              "      border-right-color: var(--fill-color);\n",
              "    }\n",
              "    40% {\n",
              "      border-color: transparent;\n",
              "      border-right-color: var(--fill-color);\n",
              "      border-top-color: var(--fill-color);\n",
              "    }\n",
              "    60% {\n",
              "      border-color: transparent;\n",
              "      border-right-color: var(--fill-color);\n",
              "    }\n",
              "    80% {\n",
              "      border-color: transparent;\n",
              "      border-right-color: var(--fill-color);\n",
              "      border-bottom-color: var(--fill-color);\n",
              "    }\n",
              "    90% {\n",
              "      border-color: transparent;\n",
              "      border-bottom-color: var(--fill-color);\n",
              "    }\n",
              "  }\n",
              "</style>\n",
              "\n",
              "  <script>\n",
              "    async function quickchart(key) {\n",
              "      const quickchartButtonEl =\n",
              "        document.querySelector('#' + key + ' button');\n",
              "      quickchartButtonEl.disabled = true;  // To prevent multiple clicks.\n",
              "      quickchartButtonEl.classList.add('colab-df-spinner');\n",
              "      try {\n",
              "        const charts = await google.colab.kernel.invokeFunction(\n",
              "            'suggestCharts', [key], {});\n",
              "      } catch (error) {\n",
              "        console.error('Error during call to suggestCharts:', error);\n",
              "      }\n",
              "      quickchartButtonEl.classList.remove('colab-df-spinner');\n",
              "      quickchartButtonEl.classList.add('colab-df-quickchart-complete');\n",
              "    }\n",
              "    (() => {\n",
              "      let quickchartButtonEl =\n",
              "        document.querySelector('#df-dc12181a-2f96-4063-84fb-58fc7d62ebf1 button');\n",
              "      quickchartButtonEl.style.display =\n",
              "        google.colab.kernel.accessAllowed ? 'block' : 'none';\n",
              "    })();\n",
              "  </script>\n",
              "</div>\n",
              "    </div>\n",
              "  </div>\n"
            ]
          },
          "metadata": {},
          "execution_count": 47
        }
      ]
    },
    {
      "cell_type": "code",
      "source": [
        "list_loc = pd.DataFrame({'Location'})\n",
        "list_loc = hotel['Location']\n",
        "list_loc = list_loc.drop_duplicates()\n",
        "list_loc = list_loc.reset_index(drop = True)\n",
        "list_loc"
      ],
      "metadata": {
        "id": "qNSq_imWHuZi",
        "colab": {
          "base_uri": "https://localhost:8080/"
        },
        "outputId": "a492070d-3661-43c4-aa10-b8c12763ba5d"
      },
      "execution_count": null,
      "outputs": [
        {
          "output_type": "execute_result",
          "data": {
            "text/plain": [
              "0             Đà Lạt\n",
              "1             Hà Nội\n",
              "2    TP. Hồ Chí Minh\n",
              "3           Vũng Tàu\n",
              "4            Đà Nẵng\n",
              "5           Phú Quốc\n",
              "6             Hội An\n",
              "7          Nha Trang\n",
              "8              Sa Pa\n",
              "9                Huế\n",
              "Name: Location, dtype: object"
            ]
          },
          "metadata": {},
          "execution_count": 66
        }
      ]
    },
    {
      "cell_type": "code",
      "source": [
        "hotel_info = hotel_new.drop(columns = ['tags', 'URL Hotel'])\n",
        "hotel_info = hotel_info.drop_duplicates()\n",
        "hotel_info = hotel_info.reset_index(drop = True)\n",
        "hotel_info"
      ],
      "metadata": {
        "colab": {
          "base_uri": "https://localhost:8080/",
          "height": 423
        },
        "id": "lOMpxQA-oUR2",
        "outputId": "640ad64a-f0f4-4df3-bed3-a7552df3c732"
      },
      "execution_count": null,
      "outputs": [
        {
          "output_type": "execute_result",
          "data": {
            "text/plain": [
              "      HotelID                     Name Hotel\n",
              "0        4064        Dalat Wind Deluxe Hotel\n",
              "1        1173         Miền Nhiệt Đới 2 Hotel\n",
              "2        2090                     Raon Dalat\n",
              "3         175                   Royal Palace\n",
              "4        1113                    Jolie House\n",
              "...       ...                            ...\n",
              "4501     1083               Hưng Long Hostel\n",
              "4502     1194                       Le House\n",
              "4503     2196  Pinehill Tu Hieu Hue Homestay\n",
              "4504     4444                  Snooze Garden\n",
              "4505      135                     LittleBoss\n",
              "\n",
              "[4506 rows x 2 columns]"
            ],
            "text/html": [
              "\n",
              "  <div id=\"df-f815587f-1d2e-4f06-a526-cd91e04fa582\" class=\"colab-df-container\">\n",
              "    <div>\n",
              "<style scoped>\n",
              "    .dataframe tbody tr th:only-of-type {\n",
              "        vertical-align: middle;\n",
              "    }\n",
              "\n",
              "    .dataframe tbody tr th {\n",
              "        vertical-align: top;\n",
              "    }\n",
              "\n",
              "    .dataframe thead th {\n",
              "        text-align: right;\n",
              "    }\n",
              "</style>\n",
              "<table border=\"1\" class=\"dataframe\">\n",
              "  <thead>\n",
              "    <tr style=\"text-align: right;\">\n",
              "      <th></th>\n",
              "      <th>HotelID</th>\n",
              "      <th>Name Hotel</th>\n",
              "    </tr>\n",
              "  </thead>\n",
              "  <tbody>\n",
              "    <tr>\n",
              "      <th>0</th>\n",
              "      <td>4064</td>\n",
              "      <td>Dalat Wind Deluxe Hotel</td>\n",
              "    </tr>\n",
              "    <tr>\n",
              "      <th>1</th>\n",
              "      <td>1173</td>\n",
              "      <td>Miền Nhiệt Đới 2 Hotel</td>\n",
              "    </tr>\n",
              "    <tr>\n",
              "      <th>2</th>\n",
              "      <td>2090</td>\n",
              "      <td>Raon Dalat</td>\n",
              "    </tr>\n",
              "    <tr>\n",
              "      <th>3</th>\n",
              "      <td>175</td>\n",
              "      <td>Royal Palace</td>\n",
              "    </tr>\n",
              "    <tr>\n",
              "      <th>4</th>\n",
              "      <td>1113</td>\n",
              "      <td>Jolie House</td>\n",
              "    </tr>\n",
              "    <tr>\n",
              "      <th>...</th>\n",
              "      <td>...</td>\n",
              "      <td>...</td>\n",
              "    </tr>\n",
              "    <tr>\n",
              "      <th>4501</th>\n",
              "      <td>1083</td>\n",
              "      <td>Hưng Long Hostel</td>\n",
              "    </tr>\n",
              "    <tr>\n",
              "      <th>4502</th>\n",
              "      <td>1194</td>\n",
              "      <td>Le House</td>\n",
              "    </tr>\n",
              "    <tr>\n",
              "      <th>4503</th>\n",
              "      <td>2196</td>\n",
              "      <td>Pinehill Tu Hieu Hue Homestay</td>\n",
              "    </tr>\n",
              "    <tr>\n",
              "      <th>4504</th>\n",
              "      <td>4444</td>\n",
              "      <td>Snooze Garden</td>\n",
              "    </tr>\n",
              "    <tr>\n",
              "      <th>4505</th>\n",
              "      <td>135</td>\n",
              "      <td>LittleBoss</td>\n",
              "    </tr>\n",
              "  </tbody>\n",
              "</table>\n",
              "<p>4506 rows × 2 columns</p>\n",
              "</div>\n",
              "    <div class=\"colab-df-buttons\">\n",
              "\n",
              "  <div class=\"colab-df-container\">\n",
              "    <button class=\"colab-df-convert\" onclick=\"convertToInteractive('df-f815587f-1d2e-4f06-a526-cd91e04fa582')\"\n",
              "            title=\"Convert this dataframe to an interactive table.\"\n",
              "            style=\"display:none;\">\n",
              "\n",
              "  <svg xmlns=\"http://www.w3.org/2000/svg\" height=\"24px\" viewBox=\"0 -960 960 960\">\n",
              "    <path d=\"M120-120v-720h720v720H120Zm60-500h600v-160H180v160Zm220 220h160v-160H400v160Zm0 220h160v-160H400v160ZM180-400h160v-160H180v160Zm440 0h160v-160H620v160ZM180-180h160v-160H180v160Zm440 0h160v-160H620v160Z\"/>\n",
              "  </svg>\n",
              "    </button>\n",
              "\n",
              "  <style>\n",
              "    .colab-df-container {\n",
              "      display:flex;\n",
              "      gap: 12px;\n",
              "    }\n",
              "\n",
              "    .colab-df-convert {\n",
              "      background-color: #E8F0FE;\n",
              "      border: none;\n",
              "      border-radius: 50%;\n",
              "      cursor: pointer;\n",
              "      display: none;\n",
              "      fill: #1967D2;\n",
              "      height: 32px;\n",
              "      padding: 0 0 0 0;\n",
              "      width: 32px;\n",
              "    }\n",
              "\n",
              "    .colab-df-convert:hover {\n",
              "      background-color: #E2EBFA;\n",
              "      box-shadow: 0px 1px 2px rgba(60, 64, 67, 0.3), 0px 1px 3px 1px rgba(60, 64, 67, 0.15);\n",
              "      fill: #174EA6;\n",
              "    }\n",
              "\n",
              "    .colab-df-buttons div {\n",
              "      margin-bottom: 4px;\n",
              "    }\n",
              "\n",
              "    [theme=dark] .colab-df-convert {\n",
              "      background-color: #3B4455;\n",
              "      fill: #D2E3FC;\n",
              "    }\n",
              "\n",
              "    [theme=dark] .colab-df-convert:hover {\n",
              "      background-color: #434B5C;\n",
              "      box-shadow: 0px 1px 3px 1px rgba(0, 0, 0, 0.15);\n",
              "      filter: drop-shadow(0px 1px 2px rgba(0, 0, 0, 0.3));\n",
              "      fill: #FFFFFF;\n",
              "    }\n",
              "  </style>\n",
              "\n",
              "    <script>\n",
              "      const buttonEl =\n",
              "        document.querySelector('#df-f815587f-1d2e-4f06-a526-cd91e04fa582 button.colab-df-convert');\n",
              "      buttonEl.style.display =\n",
              "        google.colab.kernel.accessAllowed ? 'block' : 'none';\n",
              "\n",
              "      async function convertToInteractive(key) {\n",
              "        const element = document.querySelector('#df-f815587f-1d2e-4f06-a526-cd91e04fa582');\n",
              "        const dataTable =\n",
              "          await google.colab.kernel.invokeFunction('convertToInteractive',\n",
              "                                                    [key], {});\n",
              "        if (!dataTable) return;\n",
              "\n",
              "        const docLinkHtml = 'Like what you see? Visit the ' +\n",
              "          '<a target=\"_blank\" href=https://colab.research.google.com/notebooks/data_table.ipynb>data table notebook</a>'\n",
              "          + ' to learn more about interactive tables.';\n",
              "        element.innerHTML = '';\n",
              "        dataTable['output_type'] = 'display_data';\n",
              "        await google.colab.output.renderOutput(dataTable, element);\n",
              "        const docLink = document.createElement('div');\n",
              "        docLink.innerHTML = docLinkHtml;\n",
              "        element.appendChild(docLink);\n",
              "      }\n",
              "    </script>\n",
              "  </div>\n",
              "\n",
              "\n",
              "<div id=\"df-28ec4603-abdb-4564-ad10-f33c8889c62e\">\n",
              "  <button class=\"colab-df-quickchart\" onclick=\"quickchart('df-28ec4603-abdb-4564-ad10-f33c8889c62e')\"\n",
              "            title=\"Suggest charts\"\n",
              "            style=\"display:none;\">\n",
              "\n",
              "<svg xmlns=\"http://www.w3.org/2000/svg\" height=\"24px\"viewBox=\"0 0 24 24\"\n",
              "     width=\"24px\">\n",
              "    <g>\n",
              "        <path d=\"M19 3H5c-1.1 0-2 .9-2 2v14c0 1.1.9 2 2 2h14c1.1 0 2-.9 2-2V5c0-1.1-.9-2-2-2zM9 17H7v-7h2v7zm4 0h-2V7h2v10zm4 0h-2v-4h2v4z\"/>\n",
              "    </g>\n",
              "</svg>\n",
              "  </button>\n",
              "\n",
              "<style>\n",
              "  .colab-df-quickchart {\n",
              "      --bg-color: #E8F0FE;\n",
              "      --fill-color: #1967D2;\n",
              "      --hover-bg-color: #E2EBFA;\n",
              "      --hover-fill-color: #174EA6;\n",
              "      --disabled-fill-color: #AAA;\n",
              "      --disabled-bg-color: #DDD;\n",
              "  }\n",
              "\n",
              "  [theme=dark] .colab-df-quickchart {\n",
              "      --bg-color: #3B4455;\n",
              "      --fill-color: #D2E3FC;\n",
              "      --hover-bg-color: #434B5C;\n",
              "      --hover-fill-color: #FFFFFF;\n",
              "      --disabled-bg-color: #3B4455;\n",
              "      --disabled-fill-color: #666;\n",
              "  }\n",
              "\n",
              "  .colab-df-quickchart {\n",
              "    background-color: var(--bg-color);\n",
              "    border: none;\n",
              "    border-radius: 50%;\n",
              "    cursor: pointer;\n",
              "    display: none;\n",
              "    fill: var(--fill-color);\n",
              "    height: 32px;\n",
              "    padding: 0;\n",
              "    width: 32px;\n",
              "  }\n",
              "\n",
              "  .colab-df-quickchart:hover {\n",
              "    background-color: var(--hover-bg-color);\n",
              "    box-shadow: 0 1px 2px rgba(60, 64, 67, 0.3), 0 1px 3px 1px rgba(60, 64, 67, 0.15);\n",
              "    fill: var(--button-hover-fill-color);\n",
              "  }\n",
              "\n",
              "  .colab-df-quickchart-complete:disabled,\n",
              "  .colab-df-quickchart-complete:disabled:hover {\n",
              "    background-color: var(--disabled-bg-color);\n",
              "    fill: var(--disabled-fill-color);\n",
              "    box-shadow: none;\n",
              "  }\n",
              "\n",
              "  .colab-df-spinner {\n",
              "    border: 2px solid var(--fill-color);\n",
              "    border-color: transparent;\n",
              "    border-bottom-color: var(--fill-color);\n",
              "    animation:\n",
              "      spin 1s steps(1) infinite;\n",
              "  }\n",
              "\n",
              "  @keyframes spin {\n",
              "    0% {\n",
              "      border-color: transparent;\n",
              "      border-bottom-color: var(--fill-color);\n",
              "      border-left-color: var(--fill-color);\n",
              "    }\n",
              "    20% {\n",
              "      border-color: transparent;\n",
              "      border-left-color: var(--fill-color);\n",
              "      border-top-color: var(--fill-color);\n",
              "    }\n",
              "    30% {\n",
              "      border-color: transparent;\n",
              "      border-left-color: var(--fill-color);\n",
              "      border-top-color: var(--fill-color);\n",
              "      border-right-color: var(--fill-color);\n",
              "    }\n",
              "    40% {\n",
              "      border-color: transparent;\n",
              "      border-right-color: var(--fill-color);\n",
              "      border-top-color: var(--fill-color);\n",
              "    }\n",
              "    60% {\n",
              "      border-color: transparent;\n",
              "      border-right-color: var(--fill-color);\n",
              "    }\n",
              "    80% {\n",
              "      border-color: transparent;\n",
              "      border-right-color: var(--fill-color);\n",
              "      border-bottom-color: var(--fill-color);\n",
              "    }\n",
              "    90% {\n",
              "      border-color: transparent;\n",
              "      border-bottom-color: var(--fill-color);\n",
              "    }\n",
              "  }\n",
              "</style>\n",
              "\n",
              "  <script>\n",
              "    async function quickchart(key) {\n",
              "      const quickchartButtonEl =\n",
              "        document.querySelector('#' + key + ' button');\n",
              "      quickchartButtonEl.disabled = true;  // To prevent multiple clicks.\n",
              "      quickchartButtonEl.classList.add('colab-df-spinner');\n",
              "      try {\n",
              "        const charts = await google.colab.kernel.invokeFunction(\n",
              "            'suggestCharts', [key], {});\n",
              "      } catch (error) {\n",
              "        console.error('Error during call to suggestCharts:', error);\n",
              "      }\n",
              "      quickchartButtonEl.classList.remove('colab-df-spinner');\n",
              "      quickchartButtonEl.classList.add('colab-df-quickchart-complete');\n",
              "    }\n",
              "    (() => {\n",
              "      let quickchartButtonEl =\n",
              "        document.querySelector('#df-28ec4603-abdb-4564-ad10-f33c8889c62e button');\n",
              "      quickchartButtonEl.style.display =\n",
              "        google.colab.kernel.accessAllowed ? 'block' : 'none';\n",
              "    })();\n",
              "  </script>\n",
              "</div>\n",
              "    </div>\n",
              "  </div>\n"
            ]
          },
          "metadata": {},
          "execution_count": 20
        }
      ]
    },
    {
      "cell_type": "code",
      "source": [
        "# viết hàm tiền xử lý dữ liệu\n",
        "def processing_data(data):\n",
        "# - chuyển về từ thường\n",
        "  data = data.lower()\n",
        "# - Xóa dấu câu, ký tự đặc biệt\n",
        "  data = re.sub('[^\\w\\s]', ' ', str(data))\n",
        "# - tách từ\n",
        "  data = data.split()\n",
        "# - xóa stopword\n",
        "  data = [word for word in data if word not in stop_words]\n",
        "# - Chuyển từ collection lists of words sang lists of string\n",
        "  data = ' '.join(data)\n",
        "  return data"
      ],
      "metadata": {
        "id": "V6BIGFzX22Jf"
      },
      "execution_count": null,
      "outputs": []
    },
    {
      "cell_type": "code",
      "source": [
        "def tokenize_it(col):\n",
        "  for i in tqdm(range(len(hotel_new['tags']))):\n",
        "    try:\n",
        "      col[i] = word_tokenize(col[i], format = 'text')\n",
        "    except Exception as ex:\n",
        "      print(col[i])"
      ],
      "metadata": {
        "id": "xPq2H4-fQXeY"
      },
      "execution_count": null,
      "outputs": []
    },
    {
      "cell_type": "code",
      "source": [
        "def processing_col(col):\n",
        "  for i in tqdm(range(len(hotel_new['tags']))):\n",
        "    try:\n",
        "      col[i] = processing_data(col[i])\n",
        "    except Exception as ex:\n",
        "      print(col[i])"
      ],
      "metadata": {
        "id": "4iwARfmEMe1L"
      },
      "execution_count": null,
      "outputs": []
    },
    {
      "cell_type": "code",
      "source": [
        "def csr_to_list(csr_matrix):\n",
        "  l_list = []\n",
        "  num = len(csr_matrix.data)\n",
        "  for i in range(num):\n",
        "    l_list.append({'index': csr_matrix.indices[i],'values': csr_matrix.data[i]})\n",
        "  return l_list"
      ],
      "metadata": {
        "id": "y7KMYnnfmQR4"
      },
      "execution_count": null,
      "outputs": []
    },
    {
      "cell_type": "code",
      "source": [
        "hotel_new['tags'] = hotel_new['tags'].fillna('')"
      ],
      "metadata": {
        "id": "2fiZLHo5Hxbs"
      },
      "execution_count": null,
      "outputs": []
    },
    {
      "cell_type": "code",
      "source": [
        "processing_col(hotel_new['tags'])"
      ],
      "metadata": {
        "colab": {
          "base_uri": "https://localhost:8080/"
        },
        "id": "Q1DQUgdYHqqV",
        "outputId": "f369b417-1dc4-4eea-e2f5-b7883320d6ee"
      },
      "execution_count": null,
      "outputs": [
        {
          "output_type": "stream",
          "name": "stderr",
          "text": [
            "  0%|          | 0/4506 [00:00<?, ?it/s]<ipython-input-23-1dc539ca5de6>:4: SettingWithCopyWarning: \n",
            "A value is trying to be set on a copy of a slice from a DataFrame\n",
            "\n",
            "See the caveats in the documentation: https://pandas.pydata.org/pandas-docs/stable/user_guide/indexing.html#returning-a-view-versus-a-copy\n",
            "  col[i] = processing_data(col[i])\n",
            "100%|██████████| 4506/4506 [00:31<00:00, 145.30it/s]\n"
          ]
        }
      ]
    },
    {
      "cell_type": "code",
      "source": [
        "tokenize_it(hotel_new['tags'])"
      ],
      "metadata": {
        "colab": {
          "base_uri": "https://localhost:8080/"
        },
        "id": "ZyOLUPL-G7We",
        "outputId": "30bb3858-b20c-4ba3-9750-9c2d04af2804"
      },
      "execution_count": null,
      "outputs": [
        {
          "output_type": "stream",
          "name": "stderr",
          "text": [
            "  0%|          | 0/4506 [00:00<?, ?it/s]<ipython-input-22-e69c2982797e>:4: SettingWithCopyWarning: \n",
            "A value is trying to be set on a copy of a slice from a DataFrame\n",
            "\n",
            "See the caveats in the documentation: https://pandas.pydata.org/pandas-docs/stable/user_guide/indexing.html#returning-a-view-versus-a-copy\n",
            "  col[i] = word_tokenize(col[i], format = 'text')\n",
            "100%|██████████| 4506/4506 [01:10<00:00, 64.12it/s]\n"
          ]
        }
      ]
    },
    {
      "cell_type": "code",
      "source": [
        "mapping_1 = pd.Series(hotel_info['Name Hotel'], index = hotel_info.index)\n",
        "mapping_2 = pd.Series(hotel_info['HotelID'], index = hotel_info.index)\n",
        "mapping_3 = pd.Series(hotel_info.index, hotel_info['HotelID'])"
      ],
      "metadata": {
        "id": "qZKc3kTxV5wb"
      },
      "execution_count": null,
      "outputs": []
    },
    {
      "cell_type": "code",
      "source": [
        "# rec theo location\n",
        "def hotel_by_location(location, num_of_rec):\n",
        "  location = word_tokenize(location, format = 'text')\n",
        "  for i in range(len(list_loc)):\n",
        "    temp = word_tokenize(list_loc[i], format = 'text')\n",
        "    if(location == temp):\n",
        "      rec_list = []\n",
        "      hotel_list = hotel[hotel['Location'] == list_loc[i]]\n",
        "      mean_rating = hotel_list.groupby('HotelID')['Rating'].mean()\n",
        "      mean_rating = mean_rating.sort_values(ascending = False)\n",
        "      list_Id = mean_rating[:num_of_rec]\n",
        "      list_Id = list_Id.index.tolist()\n",
        "      for j in range(num_of_rec):\n",
        "        rec_list.append({list_Id[j]: mapping_1[mapping_3[list_Id[j]]]})\n",
        "      return rec_list"
      ],
      "metadata": {
        "id": "NFiCAbf-RHvx"
      },
      "execution_count": null,
      "outputs": []
    },
    {
      "cell_type": "code",
      "source": [
        "hotel_by_location('Huế', 10)\n"
      ],
      "metadata": {
        "colab": {
          "base_uri": "https://localhost:8080/"
        },
        "id": "EoENryKsVvc1",
        "outputId": "3f83efca-5d6d-4a1d-c271-d2d59101cef7"
      },
      "execution_count": null,
      "outputs": [
        {
          "output_type": "execute_result",
          "data": {
            "text/plain": [
              "[{63: 'Le Robinet Villa - a journey into Hue citadel soul'},\n",
              " {1279: 'Q Garden Villa Homestay'},\n",
              " {68: 'Le Home'},\n",
              " {262: 'Sunny C Hotel'},\n",
              " {4404: \"Van's Serene Garden Homestay\"},\n",
              " {2403: 'Melia Vinpearl Hue'},\n",
              " {4256: 'Forest Tag Homestay'},\n",
              " {2553: 'Tim Homestay Nera Garden'},\n",
              " {1717: 'Ngọc Bích Home Huế'},\n",
              " {495: 'K’may Apartment'}]"
            ]
          },
          "metadata": {},
          "execution_count": 128
        }
      ]
    },
    {
      "cell_type": "code",
      "source": [
        "keys_list = list(ttt[0].keys())"
      ],
      "metadata": {
        "id": "S1ZmcrYmdP7e"
      },
      "execution_count": null,
      "outputs": []
    },
    {
      "cell_type": "code",
      "source": [
        "ttt[0][list(ttt[0].keys())[0]]"
      ],
      "metadata": {
        "colab": {
          "base_uri": "https://localhost:8080/",
          "height": 35
        },
        "id": "O6uOypfigb8F",
        "outputId": "cf0e74de-e9a5-455c-ab15-28b0e132304b"
      },
      "execution_count": null,
      "outputs": [
        {
          "output_type": "execute_result",
          "data": {
            "text/plain": [
              "'Le Robinet Villa - a journey into Hue citadel soul'"
            ],
            "application/vnd.google.colaboratory.intrinsic+json": {
              "type": "string"
            }
          },
          "metadata": {},
          "execution_count": 75
        }
      ]
    },
    {
      "cell_type": "code",
      "source": [
        "df_for_vectorizing = hotel_new['tags']"
      ],
      "metadata": {
        "id": "OjUQbJNtLnIK"
      },
      "execution_count": null,
      "outputs": []
    },
    {
      "cell_type": "code",
      "source": [],
      "metadata": {
        "id": "lTMho-gG9jXl"
      },
      "execution_count": null,
      "outputs": []
    },
    {
      "cell_type": "code",
      "source": [
        "# rec theo nội dung tìm kiếm\n",
        "def hotel_by_search(search, df_for_vectorizing, nums_output):\n",
        "  list_for_rec = []\n",
        "  search = search.lower()\n",
        "  search = re.sub('[^\\w\\s]', ' ', str(search))\n",
        "  search = word_tokenize(search, format = 'text')\n",
        "  df_for_vectorizing_temp = hotel_new['tags'].append(pd.Series([search], index=[len(df_for_vectorizing)]))\n",
        "  vectorizer = TfidfVectorizer()\n",
        "  tags_matrix = vectorizer.fit_transform(hotel_new['tags'].append(pd.Series([search], index=[len(df_for_vectorizing)])))\n",
        "  similarities = linear_kernel(tags_matrix, tags_matrix, dense_output = False)\n",
        "  ind = len(df_for_vectorizing_temp) - 1\n",
        "  list_dict = similarities[ind]\n",
        "  list_dict = csr_to_list(list_dict)\n",
        "  #sắp xếp list_dict giảm dần theo values, và lấy ra top n\n",
        "  list_dict = sorted(list_dict, key = lambda x: x['values'], reverse = True)[1:nums_output + 1]\n",
        "  for j in range(len(list_dict)):\n",
        "    list_dict[j]['index'] = list_dict[j]['index'].astype(np.int64)\n",
        "  for i in range(len(list_dict)):\n",
        "    list_for_rec.append({mapping_2[list_dict[i]['index']]: mapping_1[list_dict[i]['index']]})\n",
        "  return list_for_rec"
      ],
      "metadata": {
        "id": "KAij_lRaLi8P"
      },
      "execution_count": null,
      "outputs": []
    },
    {
      "cell_type": "code",
      "source": [
        "hotel[hotel['HotelID'] == 2057]"
      ],
      "metadata": {
        "id": "jEwpopc98NsF"
      },
      "execution_count": null,
      "outputs": []
    },
    {
      "cell_type": "code",
      "source": [
        "hotel_by_search('Đà Nẵng, thành phố, ban công, hồ, duplex, ăn sáng', df_for_vectorizing, 10)"
      ],
      "metadata": {
        "colab": {
          "base_uri": "https://localhost:8080/"
        },
        "id": "_u16VoP1yZ7d",
        "outputId": "e680fa0d-4513-45bd-c83d-4c5a0ae49460"
      },
      "execution_count": null,
      "outputs": [
        {
          "output_type": "stream",
          "name": "stderr",
          "text": [
            "<ipython-input-129-cf97a158e760>:7: FutureWarning: The series.append method is deprecated and will be removed from pandas in a future version. Use pandas.concat instead.\n",
            "  df_for_vectorizing_temp = hotel_new['tags'].append(pd.Series([search], index=[len(df_for_vectorizing)]))\n",
            "<ipython-input-129-cf97a158e760>:9: FutureWarning: The series.append method is deprecated and will be removed from pandas in a future version. Use pandas.concat instead.\n",
            "  tags_matrix = vectorizer.fit_transform(hotel_new['tags'].append(pd.Series([search], index=[len(df_for_vectorizing)])))\n"
          ]
        },
        {
          "output_type": "execute_result",
          "data": {
            "text/plain": [
              "[{2057: 'SKY VILLAS DUPLEX-INDOOR SWIMMING POOL PARTY'},\n",
              " {1825: 'Homestay Penthouse duplex 2 tầng 240m2'},\n",
              " {202: 'May - DUPLEX SKY VIEW 01-2'},\n",
              " {2911: 'OCEAN VIEW HOME FOURPOINT DA NANG BEACH'},\n",
              " {4237: 'Da Lat Ngoi Sao Viet'},\n",
              " {4254: 'An Bang Scent Beach Homestay'},\n",
              " {1797: 'Đức Anh Bungalow'},\n",
              " {4129: 'Aura Apartment Da Lat'},\n",
              " {4212: 'Sanayen Villa & Residences'},\n",
              " {1930: 'La Casa Hotel'}]"
            ]
          },
          "metadata": {},
          "execution_count": 130
        }
      ]
    },
    {
      "cell_type": "code",
      "source": [
        "hotel_new_1 = hotel.drop(columns = ['Descriptions', 'Address', 'UserID', 'User', 'Rating'])\n",
        "hotel_new_1 = hotel_new_1.drop_duplicates()\n",
        "hotel_new_1 = hotel_new_1.drop_duplicates(subset='Name Hotel')\n",
        "hotel_new_1 = hotel_new_1.reset_index(drop = True)\n",
        "hotel_new_1"
      ],
      "metadata": {
        "id": "mGQTZVIQnuHZ"
      },
      "execution_count": null,
      "outputs": []
    },
    {
      "cell_type": "code",
      "source": [
        "type(hotel_new_1['tags'])"
      ],
      "metadata": {
        "colab": {
          "base_uri": "https://localhost:8080/"
        },
        "id": "lGhmLkIz0W3g",
        "outputId": "264a03a6-9ce4-4b7f-c550-7dbf0ca90293"
      },
      "execution_count": null,
      "outputs": [
        {
          "output_type": "execute_result",
          "data": {
            "text/plain": [
              "pandas.core.series.Series"
            ]
          },
          "metadata": {},
          "execution_count": 62
        }
      ]
    },
    {
      "cell_type": "code",
      "source": [
        "processing_col(hotel_new_1['tags'])\n",
        "hotel_new_1"
      ],
      "metadata": {
        "id": "1JCH8KdPe8m_",
        "colab": {
          "base_uri": "https://localhost:8080/",
          "height": 527
        },
        "outputId": "647172e7-2c7a-4530-d4d6-9a45025f7403"
      },
      "execution_count": null,
      "outputs": [
        {
          "output_type": "stream",
          "name": "stderr",
          "text": [
            "  0%|          | 0/4506 [00:00<?, ?it/s]<ipython-input-23-1dc539ca5de6>:4: SettingWithCopyWarning: \n",
            "A value is trying to be set on a copy of a slice from a DataFrame\n",
            "\n",
            "See the caveats in the documentation: https://pandas.pydata.org/pandas-docs/stable/user_guide/indexing.html#returning-a-view-versus-a-copy\n",
            "  col[i] = processing_data(col[i])\n",
            "100%|██████████| 4506/4506 [00:32<00:00, 138.57it/s]\n"
          ]
        },
        {
          "output_type": "execute_result",
          "data": {
            "text/plain": [
              "                                              URL Hotel Location  HotelID  \\\n",
              "0     https://www.booking.com/hotel/vn/dalat-wind.vi...   Đà Lạt     4064   \n",
              "1     https://www.booking.com/hotel/vn/tropicana-2.v...   Đà Lạt     1173   \n",
              "2     https://www.booking.com/hotel/vn/reddoorz-near...   Đà Lạt     2090   \n",
              "3     https://www.booking.com/hotel/vn/royal-palace-...   Đà Lạt      175   \n",
              "4     https://www.booking.com/hotel/vn/jolie-house-a...   Đà Lạt     1113   \n",
              "...                                                 ...      ...      ...   \n",
              "4501  https://www.booking.com/hotel/vn/hung-long-hos...      Huế     1083   \n",
              "4502  https://www.booking.com/hotel/vn/le-house-hue....      Huế     1194   \n",
              "4503  https://www.booking.com/hotel/vn/pinehill-tu-h...      Huế     2196   \n",
              "4504  https://www.booking.com/hotel/vn/snooze-villa-...      Huế     4444   \n",
              "4505  https://www.booking.com/hotel/vn/littleboss.vi...      Huế      135   \n",
              "\n",
              "                         Name Hotel  \\\n",
              "0           Dalat Wind Deluxe Hotel   \n",
              "1            Miền Nhiệt Đới 2 Hotel   \n",
              "2                        Raon Dalat   \n",
              "3                      Royal Palace   \n",
              "4                       Jolie House   \n",
              "...                             ...   \n",
              "4501               Hưng Long Hostel   \n",
              "4502                       Le House   \n",
              "4503  Pinehill Tu Hieu Hue Homestay   \n",
              "4504                  Snooze Garden   \n",
              "4505                     LittleBoss   \n",
              "\n",
              "                                                   tags  \n",
              "0     đà lạt tọa lạc thành phố đà lạt hồ xuân hương ...  \n",
              "1     đà lạt tọa lạc thành phố đà lạt quảng trường l...  \n",
              "2     đà lạt tọa lạc thành phố đà lạt clb golf dalat...  \n",
              "3     đà lạt tọa lạc thành phố đà lạt công viên yers...  \n",
              "4     đà lạt tọa lạc thành phố đà lạt tỉnh lâm đồng ...  \n",
              "...                                                 ...  \n",
              "4501  huế tất phòng nghỉ khu vực ghế tv màn hình phẳ...  \n",
              "4502  huế hộ chỗ đô xe miễn phí bếp hộ bố trí 3 phòn...  \n",
              "4503  huế tầm vườn khu vực ghế máy giặt bếp tiện ngh...  \n",
              "4504  huế chỗ nghỉ gắn náy hòa bếp đi kèm tủ lạnh bế...  \n",
              "4505  huế hộ tv màn hình phẳng hô nằm kính 2 9 tử cấ...  \n",
              "\n",
              "[4506 rows x 5 columns]"
            ],
            "text/html": [
              "\n",
              "  <div id=\"df-b0fd18f4-b3ed-4b26-9a3a-17d66fd367d4\" class=\"colab-df-container\">\n",
              "    <div>\n",
              "<style scoped>\n",
              "    .dataframe tbody tr th:only-of-type {\n",
              "        vertical-align: middle;\n",
              "    }\n",
              "\n",
              "    .dataframe tbody tr th {\n",
              "        vertical-align: top;\n",
              "    }\n",
              "\n",
              "    .dataframe thead th {\n",
              "        text-align: right;\n",
              "    }\n",
              "</style>\n",
              "<table border=\"1\" class=\"dataframe\">\n",
              "  <thead>\n",
              "    <tr style=\"text-align: right;\">\n",
              "      <th></th>\n",
              "      <th>URL Hotel</th>\n",
              "      <th>Location</th>\n",
              "      <th>HotelID</th>\n",
              "      <th>Name Hotel</th>\n",
              "      <th>tags</th>\n",
              "    </tr>\n",
              "  </thead>\n",
              "  <tbody>\n",
              "    <tr>\n",
              "      <th>0</th>\n",
              "      <td>https://www.booking.com/hotel/vn/dalat-wind.vi...</td>\n",
              "      <td>Đà Lạt</td>\n",
              "      <td>4064</td>\n",
              "      <td>Dalat Wind Deluxe Hotel</td>\n",
              "      <td>đà lạt tọa lạc thành phố đà lạt hồ xuân hương ...</td>\n",
              "    </tr>\n",
              "    <tr>\n",
              "      <th>1</th>\n",
              "      <td>https://www.booking.com/hotel/vn/tropicana-2.v...</td>\n",
              "      <td>Đà Lạt</td>\n",
              "      <td>1173</td>\n",
              "      <td>Miền Nhiệt Đới 2 Hotel</td>\n",
              "      <td>đà lạt tọa lạc thành phố đà lạt quảng trường l...</td>\n",
              "    </tr>\n",
              "    <tr>\n",
              "      <th>2</th>\n",
              "      <td>https://www.booking.com/hotel/vn/reddoorz-near...</td>\n",
              "      <td>Đà Lạt</td>\n",
              "      <td>2090</td>\n",
              "      <td>Raon Dalat</td>\n",
              "      <td>đà lạt tọa lạc thành phố đà lạt clb golf dalat...</td>\n",
              "    </tr>\n",
              "    <tr>\n",
              "      <th>3</th>\n",
              "      <td>https://www.booking.com/hotel/vn/royal-palace-...</td>\n",
              "      <td>Đà Lạt</td>\n",
              "      <td>175</td>\n",
              "      <td>Royal Palace</td>\n",
              "      <td>đà lạt tọa lạc thành phố đà lạt công viên yers...</td>\n",
              "    </tr>\n",
              "    <tr>\n",
              "      <th>4</th>\n",
              "      <td>https://www.booking.com/hotel/vn/jolie-house-a...</td>\n",
              "      <td>Đà Lạt</td>\n",
              "      <td>1113</td>\n",
              "      <td>Jolie House</td>\n",
              "      <td>đà lạt tọa lạc thành phố đà lạt tỉnh lâm đồng ...</td>\n",
              "    </tr>\n",
              "    <tr>\n",
              "      <th>...</th>\n",
              "      <td>...</td>\n",
              "      <td>...</td>\n",
              "      <td>...</td>\n",
              "      <td>...</td>\n",
              "      <td>...</td>\n",
              "    </tr>\n",
              "    <tr>\n",
              "      <th>4501</th>\n",
              "      <td>https://www.booking.com/hotel/vn/hung-long-hos...</td>\n",
              "      <td>Huế</td>\n",
              "      <td>1083</td>\n",
              "      <td>Hưng Long Hostel</td>\n",
              "      <td>huế tất phòng nghỉ khu vực ghế tv màn hình phẳ...</td>\n",
              "    </tr>\n",
              "    <tr>\n",
              "      <th>4502</th>\n",
              "      <td>https://www.booking.com/hotel/vn/le-house-hue....</td>\n",
              "      <td>Huế</td>\n",
              "      <td>1194</td>\n",
              "      <td>Le House</td>\n",
              "      <td>huế hộ chỗ đô xe miễn phí bếp hộ bố trí 3 phòn...</td>\n",
              "    </tr>\n",
              "    <tr>\n",
              "      <th>4503</th>\n",
              "      <td>https://www.booking.com/hotel/vn/pinehill-tu-h...</td>\n",
              "      <td>Huế</td>\n",
              "      <td>2196</td>\n",
              "      <td>Pinehill Tu Hieu Hue Homestay</td>\n",
              "      <td>huế tầm vườn khu vực ghế máy giặt bếp tiện ngh...</td>\n",
              "    </tr>\n",
              "    <tr>\n",
              "      <th>4504</th>\n",
              "      <td>https://www.booking.com/hotel/vn/snooze-villa-...</td>\n",
              "      <td>Huế</td>\n",
              "      <td>4444</td>\n",
              "      <td>Snooze Garden</td>\n",
              "      <td>huế chỗ nghỉ gắn náy hòa bếp đi kèm tủ lạnh bế...</td>\n",
              "    </tr>\n",
              "    <tr>\n",
              "      <th>4505</th>\n",
              "      <td>https://www.booking.com/hotel/vn/littleboss.vi...</td>\n",
              "      <td>Huế</td>\n",
              "      <td>135</td>\n",
              "      <td>LittleBoss</td>\n",
              "      <td>huế hộ tv màn hình phẳng hô nằm kính 2 9 tử cấ...</td>\n",
              "    </tr>\n",
              "  </tbody>\n",
              "</table>\n",
              "<p>4506 rows × 5 columns</p>\n",
              "</div>\n",
              "    <div class=\"colab-df-buttons\">\n",
              "\n",
              "  <div class=\"colab-df-container\">\n",
              "    <button class=\"colab-df-convert\" onclick=\"convertToInteractive('df-b0fd18f4-b3ed-4b26-9a3a-17d66fd367d4')\"\n",
              "            title=\"Convert this dataframe to an interactive table.\"\n",
              "            style=\"display:none;\">\n",
              "\n",
              "  <svg xmlns=\"http://www.w3.org/2000/svg\" height=\"24px\" viewBox=\"0 -960 960 960\">\n",
              "    <path d=\"M120-120v-720h720v720H120Zm60-500h600v-160H180v160Zm220 220h160v-160H400v160Zm0 220h160v-160H400v160ZM180-400h160v-160H180v160Zm440 0h160v-160H620v160ZM180-180h160v-160H180v160Zm440 0h160v-160H620v160Z\"/>\n",
              "  </svg>\n",
              "    </button>\n",
              "\n",
              "  <style>\n",
              "    .colab-df-container {\n",
              "      display:flex;\n",
              "      gap: 12px;\n",
              "    }\n",
              "\n",
              "    .colab-df-convert {\n",
              "      background-color: #E8F0FE;\n",
              "      border: none;\n",
              "      border-radius: 50%;\n",
              "      cursor: pointer;\n",
              "      display: none;\n",
              "      fill: #1967D2;\n",
              "      height: 32px;\n",
              "      padding: 0 0 0 0;\n",
              "      width: 32px;\n",
              "    }\n",
              "\n",
              "    .colab-df-convert:hover {\n",
              "      background-color: #E2EBFA;\n",
              "      box-shadow: 0px 1px 2px rgba(60, 64, 67, 0.3), 0px 1px 3px 1px rgba(60, 64, 67, 0.15);\n",
              "      fill: #174EA6;\n",
              "    }\n",
              "\n",
              "    .colab-df-buttons div {\n",
              "      margin-bottom: 4px;\n",
              "    }\n",
              "\n",
              "    [theme=dark] .colab-df-convert {\n",
              "      background-color: #3B4455;\n",
              "      fill: #D2E3FC;\n",
              "    }\n",
              "\n",
              "    [theme=dark] .colab-df-convert:hover {\n",
              "      background-color: #434B5C;\n",
              "      box-shadow: 0px 1px 3px 1px rgba(0, 0, 0, 0.15);\n",
              "      filter: drop-shadow(0px 1px 2px rgba(0, 0, 0, 0.3));\n",
              "      fill: #FFFFFF;\n",
              "    }\n",
              "  </style>\n",
              "\n",
              "    <script>\n",
              "      const buttonEl =\n",
              "        document.querySelector('#df-b0fd18f4-b3ed-4b26-9a3a-17d66fd367d4 button.colab-df-convert');\n",
              "      buttonEl.style.display =\n",
              "        google.colab.kernel.accessAllowed ? 'block' : 'none';\n",
              "\n",
              "      async function convertToInteractive(key) {\n",
              "        const element = document.querySelector('#df-b0fd18f4-b3ed-4b26-9a3a-17d66fd367d4');\n",
              "        const dataTable =\n",
              "          await google.colab.kernel.invokeFunction('convertToInteractive',\n",
              "                                                    [key], {});\n",
              "        if (!dataTable) return;\n",
              "\n",
              "        const docLinkHtml = 'Like what you see? Visit the ' +\n",
              "          '<a target=\"_blank\" href=https://colab.research.google.com/notebooks/data_table.ipynb>data table notebook</a>'\n",
              "          + ' to learn more about interactive tables.';\n",
              "        element.innerHTML = '';\n",
              "        dataTable['output_type'] = 'display_data';\n",
              "        await google.colab.output.renderOutput(dataTable, element);\n",
              "        const docLink = document.createElement('div');\n",
              "        docLink.innerHTML = docLinkHtml;\n",
              "        element.appendChild(docLink);\n",
              "      }\n",
              "    </script>\n",
              "  </div>\n",
              "\n",
              "\n",
              "<div id=\"df-7200fac3-d6a4-449c-a71d-9b4401967a59\">\n",
              "  <button class=\"colab-df-quickchart\" onclick=\"quickchart('df-7200fac3-d6a4-449c-a71d-9b4401967a59')\"\n",
              "            title=\"Suggest charts\"\n",
              "            style=\"display:none;\">\n",
              "\n",
              "<svg xmlns=\"http://www.w3.org/2000/svg\" height=\"24px\"viewBox=\"0 0 24 24\"\n",
              "     width=\"24px\">\n",
              "    <g>\n",
              "        <path d=\"M19 3H5c-1.1 0-2 .9-2 2v14c0 1.1.9 2 2 2h14c1.1 0 2-.9 2-2V5c0-1.1-.9-2-2-2zM9 17H7v-7h2v7zm4 0h-2V7h2v10zm4 0h-2v-4h2v4z\"/>\n",
              "    </g>\n",
              "</svg>\n",
              "  </button>\n",
              "\n",
              "<style>\n",
              "  .colab-df-quickchart {\n",
              "      --bg-color: #E8F0FE;\n",
              "      --fill-color: #1967D2;\n",
              "      --hover-bg-color: #E2EBFA;\n",
              "      --hover-fill-color: #174EA6;\n",
              "      --disabled-fill-color: #AAA;\n",
              "      --disabled-bg-color: #DDD;\n",
              "  }\n",
              "\n",
              "  [theme=dark] .colab-df-quickchart {\n",
              "      --bg-color: #3B4455;\n",
              "      --fill-color: #D2E3FC;\n",
              "      --hover-bg-color: #434B5C;\n",
              "      --hover-fill-color: #FFFFFF;\n",
              "      --disabled-bg-color: #3B4455;\n",
              "      --disabled-fill-color: #666;\n",
              "  }\n",
              "\n",
              "  .colab-df-quickchart {\n",
              "    background-color: var(--bg-color);\n",
              "    border: none;\n",
              "    border-radius: 50%;\n",
              "    cursor: pointer;\n",
              "    display: none;\n",
              "    fill: var(--fill-color);\n",
              "    height: 32px;\n",
              "    padding: 0;\n",
              "    width: 32px;\n",
              "  }\n",
              "\n",
              "  .colab-df-quickchart:hover {\n",
              "    background-color: var(--hover-bg-color);\n",
              "    box-shadow: 0 1px 2px rgba(60, 64, 67, 0.3), 0 1px 3px 1px rgba(60, 64, 67, 0.15);\n",
              "    fill: var(--button-hover-fill-color);\n",
              "  }\n",
              "\n",
              "  .colab-df-quickchart-complete:disabled,\n",
              "  .colab-df-quickchart-complete:disabled:hover {\n",
              "    background-color: var(--disabled-bg-color);\n",
              "    fill: var(--disabled-fill-color);\n",
              "    box-shadow: none;\n",
              "  }\n",
              "\n",
              "  .colab-df-spinner {\n",
              "    border: 2px solid var(--fill-color);\n",
              "    border-color: transparent;\n",
              "    border-bottom-color: var(--fill-color);\n",
              "    animation:\n",
              "      spin 1s steps(1) infinite;\n",
              "  }\n",
              "\n",
              "  @keyframes spin {\n",
              "    0% {\n",
              "      border-color: transparent;\n",
              "      border-bottom-color: var(--fill-color);\n",
              "      border-left-color: var(--fill-color);\n",
              "    }\n",
              "    20% {\n",
              "      border-color: transparent;\n",
              "      border-left-color: var(--fill-color);\n",
              "      border-top-color: var(--fill-color);\n",
              "    }\n",
              "    30% {\n",
              "      border-color: transparent;\n",
              "      border-left-color: var(--fill-color);\n",
              "      border-top-color: var(--fill-color);\n",
              "      border-right-color: var(--fill-color);\n",
              "    }\n",
              "    40% {\n",
              "      border-color: transparent;\n",
              "      border-right-color: var(--fill-color);\n",
              "      border-top-color: var(--fill-color);\n",
              "    }\n",
              "    60% {\n",
              "      border-color: transparent;\n",
              "      border-right-color: var(--fill-color);\n",
              "    }\n",
              "    80% {\n",
              "      border-color: transparent;\n",
              "      border-right-color: var(--fill-color);\n",
              "      border-bottom-color: var(--fill-color);\n",
              "    }\n",
              "    90% {\n",
              "      border-color: transparent;\n",
              "      border-bottom-color: var(--fill-color);\n",
              "    }\n",
              "  }\n",
              "</style>\n",
              "\n",
              "  <script>\n",
              "    async function quickchart(key) {\n",
              "      const quickchartButtonEl =\n",
              "        document.querySelector('#' + key + ' button');\n",
              "      quickchartButtonEl.disabled = true;  // To prevent multiple clicks.\n",
              "      quickchartButtonEl.classList.add('colab-df-spinner');\n",
              "      try {\n",
              "        const charts = await google.colab.kernel.invokeFunction(\n",
              "            'suggestCharts', [key], {});\n",
              "      } catch (error) {\n",
              "        console.error('Error during call to suggestCharts:', error);\n",
              "      }\n",
              "      quickchartButtonEl.classList.remove('colab-df-spinner');\n",
              "      quickchartButtonEl.classList.add('colab-df-quickchart-complete');\n",
              "    }\n",
              "    (() => {\n",
              "      let quickchartButtonEl =\n",
              "        document.querySelector('#df-7200fac3-d6a4-449c-a71d-9b4401967a59 button');\n",
              "      quickchartButtonEl.style.display =\n",
              "        google.colab.kernel.accessAllowed ? 'block' : 'none';\n",
              "    })();\n",
              "  </script>\n",
              "</div>\n",
              "    </div>\n",
              "  </div>\n"
            ]
          },
          "metadata": {},
          "execution_count": 60
        }
      ]
    },
    {
      "cell_type": "code",
      "source": [
        "tokenize_it(hotel_new_1['tags'])\n",
        "hotel_new_1"
      ],
      "metadata": {
        "id": "Khpti_akrFVA",
        "colab": {
          "base_uri": "https://localhost:8080/",
          "height": 562
        },
        "outputId": "5ec8eec2-45c8-442d-c1b7-7580cc2e08b3"
      },
      "execution_count": null,
      "outputs": [
        {
          "output_type": "stream",
          "name": "stderr",
          "text": [
            "  0%|          | 0/4506 [00:00<?, ?it/s]<ipython-input-22-e69c2982797e>:4: SettingWithCopyWarning: \n",
            "A value is trying to be set on a copy of a slice from a DataFrame\n",
            "\n",
            "See the caveats in the documentation: https://pandas.pydata.org/pandas-docs/stable/user_guide/indexing.html#returning-a-view-versus-a-copy\n",
            "  col[i] = word_tokenize(col[i], format = 'text')\n",
            "100%|██████████| 4506/4506 [01:16<00:00, 59.06it/s]\n"
          ]
        },
        {
          "output_type": "execute_result",
          "data": {
            "text/plain": [
              "                                              URL Hotel Location  HotelID  \\\n",
              "0     https://www.booking.com/hotel/vn/dalat-wind.vi...   Đà Lạt     4064   \n",
              "1     https://www.booking.com/hotel/vn/tropicana-2.v...   Đà Lạt     1173   \n",
              "2     https://www.booking.com/hotel/vn/reddoorz-near...   Đà Lạt     2090   \n",
              "3     https://www.booking.com/hotel/vn/royal-palace-...   Đà Lạt      175   \n",
              "4     https://www.booking.com/hotel/vn/jolie-house-a...   Đà Lạt     1113   \n",
              "...                                                 ...      ...      ...   \n",
              "4501  https://www.booking.com/hotel/vn/hung-long-hos...      Huế     1083   \n",
              "4502  https://www.booking.com/hotel/vn/le-house-hue....      Huế     1194   \n",
              "4503  https://www.booking.com/hotel/vn/pinehill-tu-h...      Huế     2196   \n",
              "4504  https://www.booking.com/hotel/vn/snooze-villa-...      Huế     4444   \n",
              "4505  https://www.booking.com/hotel/vn/littleboss.vi...      Huế      135   \n",
              "\n",
              "                         Name Hotel  \\\n",
              "0           Dalat Wind Deluxe Hotel   \n",
              "1            Miền Nhiệt Đới 2 Hotel   \n",
              "2                        Raon Dalat   \n",
              "3                      Royal Palace   \n",
              "4                       Jolie House   \n",
              "...                             ...   \n",
              "4501               Hưng Long Hostel   \n",
              "4502                       Le House   \n",
              "4503  Pinehill Tu Hieu Hue Homestay   \n",
              "4504                  Snooze Garden   \n",
              "4505                     LittleBoss   \n",
              "\n",
              "                                                   tags  \n",
              "0     đà lạt tọa_lạc thành_phố đà lạt hồ xuân hương ...  \n",
              "1     đà lạt tọa_lạc thành_phố đà_lạt quảng_trường l...  \n",
              "2     đà lạt tọa_lạc thành_phố đà_lạt clb golf dalat...  \n",
              "3     đà lạt tọa_lạc thành_phố đà_lạt công_viên yers...  \n",
              "4     đà lạt tọa_lạc thành_phố đà lạt tỉnh lâm_đồng ...  \n",
              "...                                                 ...  \n",
              "4501  huế tất_phòng nghỉ khu_vực ghế tv màn_hình phẳ...  \n",
              "4502  huế hộ chỗ đô xe miễn_phí bếp hộ bố_trí 3 phòn...  \n",
              "4503  huế tầm vườn khu_vực ghế máy giặt bếp tiện_ngh...  \n",
              "4504  huế chỗ nghỉ gắn náy hòa bếp đi kèm tủ_lạnh bế...  \n",
              "4505  huế hộ tv màn_hình phẳng_hô nằm kính 2 9 tử cấ...  \n",
              "\n",
              "[4506 rows x 5 columns]"
            ],
            "text/html": [
              "\n",
              "  <div id=\"df-05c30e52-4ba6-4f5b-b1b2-4859e4fe6df5\" class=\"colab-df-container\">\n",
              "    <div>\n",
              "<style scoped>\n",
              "    .dataframe tbody tr th:only-of-type {\n",
              "        vertical-align: middle;\n",
              "    }\n",
              "\n",
              "    .dataframe tbody tr th {\n",
              "        vertical-align: top;\n",
              "    }\n",
              "\n",
              "    .dataframe thead th {\n",
              "        text-align: right;\n",
              "    }\n",
              "</style>\n",
              "<table border=\"1\" class=\"dataframe\">\n",
              "  <thead>\n",
              "    <tr style=\"text-align: right;\">\n",
              "      <th></th>\n",
              "      <th>URL Hotel</th>\n",
              "      <th>Location</th>\n",
              "      <th>HotelID</th>\n",
              "      <th>Name Hotel</th>\n",
              "      <th>tags</th>\n",
              "    </tr>\n",
              "  </thead>\n",
              "  <tbody>\n",
              "    <tr>\n",
              "      <th>0</th>\n",
              "      <td>https://www.booking.com/hotel/vn/dalat-wind.vi...</td>\n",
              "      <td>Đà Lạt</td>\n",
              "      <td>4064</td>\n",
              "      <td>Dalat Wind Deluxe Hotel</td>\n",
              "      <td>đà lạt tọa_lạc thành_phố đà lạt hồ xuân hương ...</td>\n",
              "    </tr>\n",
              "    <tr>\n",
              "      <th>1</th>\n",
              "      <td>https://www.booking.com/hotel/vn/tropicana-2.v...</td>\n",
              "      <td>Đà Lạt</td>\n",
              "      <td>1173</td>\n",
              "      <td>Miền Nhiệt Đới 2 Hotel</td>\n",
              "      <td>đà lạt tọa_lạc thành_phố đà_lạt quảng_trường l...</td>\n",
              "    </tr>\n",
              "    <tr>\n",
              "      <th>2</th>\n",
              "      <td>https://www.booking.com/hotel/vn/reddoorz-near...</td>\n",
              "      <td>Đà Lạt</td>\n",
              "      <td>2090</td>\n",
              "      <td>Raon Dalat</td>\n",
              "      <td>đà lạt tọa_lạc thành_phố đà_lạt clb golf dalat...</td>\n",
              "    </tr>\n",
              "    <tr>\n",
              "      <th>3</th>\n",
              "      <td>https://www.booking.com/hotel/vn/royal-palace-...</td>\n",
              "      <td>Đà Lạt</td>\n",
              "      <td>175</td>\n",
              "      <td>Royal Palace</td>\n",
              "      <td>đà lạt tọa_lạc thành_phố đà_lạt công_viên yers...</td>\n",
              "    </tr>\n",
              "    <tr>\n",
              "      <th>4</th>\n",
              "      <td>https://www.booking.com/hotel/vn/jolie-house-a...</td>\n",
              "      <td>Đà Lạt</td>\n",
              "      <td>1113</td>\n",
              "      <td>Jolie House</td>\n",
              "      <td>đà lạt tọa_lạc thành_phố đà lạt tỉnh lâm_đồng ...</td>\n",
              "    </tr>\n",
              "    <tr>\n",
              "      <th>...</th>\n",
              "      <td>...</td>\n",
              "      <td>...</td>\n",
              "      <td>...</td>\n",
              "      <td>...</td>\n",
              "      <td>...</td>\n",
              "    </tr>\n",
              "    <tr>\n",
              "      <th>4501</th>\n",
              "      <td>https://www.booking.com/hotel/vn/hung-long-hos...</td>\n",
              "      <td>Huế</td>\n",
              "      <td>1083</td>\n",
              "      <td>Hưng Long Hostel</td>\n",
              "      <td>huế tất_phòng nghỉ khu_vực ghế tv màn_hình phẳ...</td>\n",
              "    </tr>\n",
              "    <tr>\n",
              "      <th>4502</th>\n",
              "      <td>https://www.booking.com/hotel/vn/le-house-hue....</td>\n",
              "      <td>Huế</td>\n",
              "      <td>1194</td>\n",
              "      <td>Le House</td>\n",
              "      <td>huế hộ chỗ đô xe miễn_phí bếp hộ bố_trí 3 phòn...</td>\n",
              "    </tr>\n",
              "    <tr>\n",
              "      <th>4503</th>\n",
              "      <td>https://www.booking.com/hotel/vn/pinehill-tu-h...</td>\n",
              "      <td>Huế</td>\n",
              "      <td>2196</td>\n",
              "      <td>Pinehill Tu Hieu Hue Homestay</td>\n",
              "      <td>huế tầm vườn khu_vực ghế máy giặt bếp tiện_ngh...</td>\n",
              "    </tr>\n",
              "    <tr>\n",
              "      <th>4504</th>\n",
              "      <td>https://www.booking.com/hotel/vn/snooze-villa-...</td>\n",
              "      <td>Huế</td>\n",
              "      <td>4444</td>\n",
              "      <td>Snooze Garden</td>\n",
              "      <td>huế chỗ nghỉ gắn náy hòa bếp đi kèm tủ_lạnh bế...</td>\n",
              "    </tr>\n",
              "    <tr>\n",
              "      <th>4505</th>\n",
              "      <td>https://www.booking.com/hotel/vn/littleboss.vi...</td>\n",
              "      <td>Huế</td>\n",
              "      <td>135</td>\n",
              "      <td>LittleBoss</td>\n",
              "      <td>huế hộ tv màn_hình phẳng_hô nằm kính 2 9 tử cấ...</td>\n",
              "    </tr>\n",
              "  </tbody>\n",
              "</table>\n",
              "<p>4506 rows × 5 columns</p>\n",
              "</div>\n",
              "    <div class=\"colab-df-buttons\">\n",
              "\n",
              "  <div class=\"colab-df-container\">\n",
              "    <button class=\"colab-df-convert\" onclick=\"convertToInteractive('df-05c30e52-4ba6-4f5b-b1b2-4859e4fe6df5')\"\n",
              "            title=\"Convert this dataframe to an interactive table.\"\n",
              "            style=\"display:none;\">\n",
              "\n",
              "  <svg xmlns=\"http://www.w3.org/2000/svg\" height=\"24px\" viewBox=\"0 -960 960 960\">\n",
              "    <path d=\"M120-120v-720h720v720H120Zm60-500h600v-160H180v160Zm220 220h160v-160H400v160Zm0 220h160v-160H400v160ZM180-400h160v-160H180v160Zm440 0h160v-160H620v160ZM180-180h160v-160H180v160Zm440 0h160v-160H620v160Z\"/>\n",
              "  </svg>\n",
              "    </button>\n",
              "\n",
              "  <style>\n",
              "    .colab-df-container {\n",
              "      display:flex;\n",
              "      gap: 12px;\n",
              "    }\n",
              "\n",
              "    .colab-df-convert {\n",
              "      background-color: #E8F0FE;\n",
              "      border: none;\n",
              "      border-radius: 50%;\n",
              "      cursor: pointer;\n",
              "      display: none;\n",
              "      fill: #1967D2;\n",
              "      height: 32px;\n",
              "      padding: 0 0 0 0;\n",
              "      width: 32px;\n",
              "    }\n",
              "\n",
              "    .colab-df-convert:hover {\n",
              "      background-color: #E2EBFA;\n",
              "      box-shadow: 0px 1px 2px rgba(60, 64, 67, 0.3), 0px 1px 3px 1px rgba(60, 64, 67, 0.15);\n",
              "      fill: #174EA6;\n",
              "    }\n",
              "\n",
              "    .colab-df-buttons div {\n",
              "      margin-bottom: 4px;\n",
              "    }\n",
              "\n",
              "    [theme=dark] .colab-df-convert {\n",
              "      background-color: #3B4455;\n",
              "      fill: #D2E3FC;\n",
              "    }\n",
              "\n",
              "    [theme=dark] .colab-df-convert:hover {\n",
              "      background-color: #434B5C;\n",
              "      box-shadow: 0px 1px 3px 1px rgba(0, 0, 0, 0.15);\n",
              "      filter: drop-shadow(0px 1px 2px rgba(0, 0, 0, 0.3));\n",
              "      fill: #FFFFFF;\n",
              "    }\n",
              "  </style>\n",
              "\n",
              "    <script>\n",
              "      const buttonEl =\n",
              "        document.querySelector('#df-05c30e52-4ba6-4f5b-b1b2-4859e4fe6df5 button.colab-df-convert');\n",
              "      buttonEl.style.display =\n",
              "        google.colab.kernel.accessAllowed ? 'block' : 'none';\n",
              "\n",
              "      async function convertToInteractive(key) {\n",
              "        const element = document.querySelector('#df-05c30e52-4ba6-4f5b-b1b2-4859e4fe6df5');\n",
              "        const dataTable =\n",
              "          await google.colab.kernel.invokeFunction('convertToInteractive',\n",
              "                                                    [key], {});\n",
              "        if (!dataTable) return;\n",
              "\n",
              "        const docLinkHtml = 'Like what you see? Visit the ' +\n",
              "          '<a target=\"_blank\" href=https://colab.research.google.com/notebooks/data_table.ipynb>data table notebook</a>'\n",
              "          + ' to learn more about interactive tables.';\n",
              "        element.innerHTML = '';\n",
              "        dataTable['output_type'] = 'display_data';\n",
              "        await google.colab.output.renderOutput(dataTable, element);\n",
              "        const docLink = document.createElement('div');\n",
              "        docLink.innerHTML = docLinkHtml;\n",
              "        element.appendChild(docLink);\n",
              "      }\n",
              "    </script>\n",
              "  </div>\n",
              "\n",
              "\n",
              "<div id=\"df-e06ab0f2-2377-4a04-8207-f02df95eace1\">\n",
              "  <button class=\"colab-df-quickchart\" onclick=\"quickchart('df-e06ab0f2-2377-4a04-8207-f02df95eace1')\"\n",
              "            title=\"Suggest charts\"\n",
              "            style=\"display:none;\">\n",
              "\n",
              "<svg xmlns=\"http://www.w3.org/2000/svg\" height=\"24px\"viewBox=\"0 0 24 24\"\n",
              "     width=\"24px\">\n",
              "    <g>\n",
              "        <path d=\"M19 3H5c-1.1 0-2 .9-2 2v14c0 1.1.9 2 2 2h14c1.1 0 2-.9 2-2V5c0-1.1-.9-2-2-2zM9 17H7v-7h2v7zm4 0h-2V7h2v10zm4 0h-2v-4h2v4z\"/>\n",
              "    </g>\n",
              "</svg>\n",
              "  </button>\n",
              "\n",
              "<style>\n",
              "  .colab-df-quickchart {\n",
              "      --bg-color: #E8F0FE;\n",
              "      --fill-color: #1967D2;\n",
              "      --hover-bg-color: #E2EBFA;\n",
              "      --hover-fill-color: #174EA6;\n",
              "      --disabled-fill-color: #AAA;\n",
              "      --disabled-bg-color: #DDD;\n",
              "  }\n",
              "\n",
              "  [theme=dark] .colab-df-quickchart {\n",
              "      --bg-color: #3B4455;\n",
              "      --fill-color: #D2E3FC;\n",
              "      --hover-bg-color: #434B5C;\n",
              "      --hover-fill-color: #FFFFFF;\n",
              "      --disabled-bg-color: #3B4455;\n",
              "      --disabled-fill-color: #666;\n",
              "  }\n",
              "\n",
              "  .colab-df-quickchart {\n",
              "    background-color: var(--bg-color);\n",
              "    border: none;\n",
              "    border-radius: 50%;\n",
              "    cursor: pointer;\n",
              "    display: none;\n",
              "    fill: var(--fill-color);\n",
              "    height: 32px;\n",
              "    padding: 0;\n",
              "    width: 32px;\n",
              "  }\n",
              "\n",
              "  .colab-df-quickchart:hover {\n",
              "    background-color: var(--hover-bg-color);\n",
              "    box-shadow: 0 1px 2px rgba(60, 64, 67, 0.3), 0 1px 3px 1px rgba(60, 64, 67, 0.15);\n",
              "    fill: var(--button-hover-fill-color);\n",
              "  }\n",
              "\n",
              "  .colab-df-quickchart-complete:disabled,\n",
              "  .colab-df-quickchart-complete:disabled:hover {\n",
              "    background-color: var(--disabled-bg-color);\n",
              "    fill: var(--disabled-fill-color);\n",
              "    box-shadow: none;\n",
              "  }\n",
              "\n",
              "  .colab-df-spinner {\n",
              "    border: 2px solid var(--fill-color);\n",
              "    border-color: transparent;\n",
              "    border-bottom-color: var(--fill-color);\n",
              "    animation:\n",
              "      spin 1s steps(1) infinite;\n",
              "  }\n",
              "\n",
              "  @keyframes spin {\n",
              "    0% {\n",
              "      border-color: transparent;\n",
              "      border-bottom-color: var(--fill-color);\n",
              "      border-left-color: var(--fill-color);\n",
              "    }\n",
              "    20% {\n",
              "      border-color: transparent;\n",
              "      border-left-color: var(--fill-color);\n",
              "      border-top-color: var(--fill-color);\n",
              "    }\n",
              "    30% {\n",
              "      border-color: transparent;\n",
              "      border-left-color: var(--fill-color);\n",
              "      border-top-color: var(--fill-color);\n",
              "      border-right-color: var(--fill-color);\n",
              "    }\n",
              "    40% {\n",
              "      border-color: transparent;\n",
              "      border-right-color: var(--fill-color);\n",
              "      border-top-color: var(--fill-color);\n",
              "    }\n",
              "    60% {\n",
              "      border-color: transparent;\n",
              "      border-right-color: var(--fill-color);\n",
              "    }\n",
              "    80% {\n",
              "      border-color: transparent;\n",
              "      border-right-color: var(--fill-color);\n",
              "      border-bottom-color: var(--fill-color);\n",
              "    }\n",
              "    90% {\n",
              "      border-color: transparent;\n",
              "      border-bottom-color: var(--fill-color);\n",
              "    }\n",
              "  }\n",
              "</style>\n",
              "\n",
              "  <script>\n",
              "    async function quickchart(key) {\n",
              "      const quickchartButtonEl =\n",
              "        document.querySelector('#' + key + ' button');\n",
              "      quickchartButtonEl.disabled = true;  // To prevent multiple clicks.\n",
              "      quickchartButtonEl.classList.add('colab-df-spinner');\n",
              "      try {\n",
              "        const charts = await google.colab.kernel.invokeFunction(\n",
              "            'suggestCharts', [key], {});\n",
              "      } catch (error) {\n",
              "        console.error('Error during call to suggestCharts:', error);\n",
              "      }\n",
              "      quickchartButtonEl.classList.remove('colab-df-spinner');\n",
              "      quickchartButtonEl.classList.add('colab-df-quickchart-complete');\n",
              "    }\n",
              "    (() => {\n",
              "      let quickchartButtonEl =\n",
              "        document.querySelector('#df-e06ab0f2-2377-4a04-8207-f02df95eace1 button');\n",
              "      quickchartButtonEl.style.display =\n",
              "        google.colab.kernel.accessAllowed ? 'block' : 'none';\n",
              "    })();\n",
              "  </script>\n",
              "</div>\n",
              "    </div>\n",
              "  </div>\n"
            ]
          },
          "metadata": {},
          "execution_count": 61
        }
      ]
    },
    {
      "cell_type": "code",
      "source": [
        "def loc_search_hotel(location, search, num):\n",
        "  for i in range(len(list_loc)):\n",
        "    location = word_tokenize(location, format = 'text')\n",
        "    temp = word_tokenize(list_loc[i], format = 'text')\n",
        "    if(location == temp):\n",
        "      list_for_rec = []\n",
        "      search = search.lower()\n",
        "      search = re.sub('[^\\w\\s]', ' ', str(search))\n",
        "      search = word_tokenize(search, format = 'text')\n",
        "      df_for_vectorizing = hotel_new_1[hotel_new_1['Location'] == list_loc[i]]\n",
        "      mapping_4 = pd.Series(df_for_vectorizing['Name Hotel'], df_for_vectorizing.index)\n",
        "      mapping_5 = pd.Series(df_for_vectorizing['HotelID'], df_for_vectorizing.index)\n",
        "      df_for_vectorizing = df_for_vectorizing.reset_index(drop = True)\n",
        "      mapping_6 = pd.Series(hotel_new_1[hotel_new_1['Location'] == list_loc[i]].index, df_for_vectorizing.index)\n",
        "      df_for_vectorizing_temp = df_for_vectorizing['tags'].append(pd.Series([search + ' ' + location], index=[len(df_for_vectorizing)]))\n",
        "      vectorizer = TfidfVectorizer()\n",
        "      tags_matrix = vectorizer.fit_transform(df_for_vectorizing_temp)\n",
        "      similarities = linear_kernel(tags_matrix, tags_matrix, dense_output = False)\n",
        "      ind = (len(df_for_vectorizing_temp) - 1)\n",
        "      list_dict = similarities[ind]\n",
        "      list_dict = csr_to_list(list_dict)\n",
        "      #sắp xếp list_dict giảm dần theo values, và lấy ra top n\n",
        "      list_dict = sorted(list_dict, key = lambda x: x['values'], reverse = True)[1:num + 1]\n",
        "      for j in range(len(list_dict)):\n",
        "        list_dict[j]['index'] = list_dict[j]['index'].astype(np.int64)\n",
        "      for i in range(len(list_dict)):\n",
        "        list_for_rec.append({mapping_5[mapping_6[list_dict[i]['index']]]: mapping_4[mapping_6[list_dict[i]['index']]]})\n",
        "      return list_for_rec\n",
        "  return hotel_by_search(search,hotel_new['tags'], num)"
      ],
      "metadata": {
        "id": "MUCkhQhluA0F"
      },
      "execution_count": null,
      "outputs": []
    },
    {
      "cell_type": "code",
      "source": [
        "loc_search_hotel('Sa Pa', 'Thành phố, núi, sông, hồ, biển, mây', 8)"
      ],
      "metadata": {
        "colab": {
          "base_uri": "https://localhost:8080/"
        },
        "id": "tJ65-HTL3CWe",
        "outputId": "ef5bab74-1dbc-4b3c-ee3b-841c4c401b3c"
      },
      "execution_count": null,
      "outputs": [
        {
          "output_type": "stream",
          "name": "stderr",
          "text": [
            "<ipython-input-131-393f8951a02a>:15: FutureWarning: The series.append method is deprecated and will be removed from pandas in a future version. Use pandas.concat instead.\n",
            "  df_for_vectorizing_temp = df_for_vectorizing['tags'].append(pd.Series([search + ' ' + location], index=[len(df_for_vectorizing)]))\n"
          ]
        }
      ]
    },
    {
      "cell_type": "code",
      "source": [
        "type(hotel_new_1[hotel_new_1['Location'] == list_loc[2]]['tags'])"
      ],
      "metadata": {
        "colab": {
          "base_uri": "https://localhost:8080/"
        },
        "id": "K9v320UY6zcZ",
        "outputId": "755595dc-0a8b-4405-ca36-f85639bbc185"
      },
      "execution_count": null,
      "outputs": [
        {
          "output_type": "execute_result",
          "data": {
            "text/plain": [
              "pandas.core.series.Series"
            ]
          },
          "metadata": {},
          "execution_count": 74
        }
      ]
    },
    {
      "cell_type": "code",
      "source": [
        "type(list_loc)"
      ],
      "metadata": {
        "colab": {
          "base_uri": "https://localhost:8080/"
        },
        "id": "sBhX47SDtd3y",
        "outputId": "fe8d4506-06d8-49e6-f95f-347fa8a6def1"
      },
      "execution_count": null,
      "outputs": [
        {
          "output_type": "execute_result",
          "data": {
            "text/plain": [
              "pandas.core.series.Series"
            ]
          },
          "metadata": {},
          "execution_count": 67
        }
      ]
    },
    {
      "cell_type": "code",
      "source": [
        "test_obj = 'Thành phố, núi, sông, hồ, biển, mây' + ' ' + 'Da Lat'\n",
        "test_obj"
      ],
      "metadata": {
        "colab": {
          "base_uri": "https://localhost:8080/",
          "height": 35
        },
        "id": "La6lQgb_9pYV",
        "outputId": "a78aea86-9c5b-4acd-b143-c09460ce039b"
      },
      "execution_count": null,
      "outputs": [
        {
          "output_type": "execute_result",
          "data": {
            "text/plain": [
              "'Thành phố, núi, sông, hồ, biển, mây Da Lat'"
            ],
            "application/vnd.google.colaboratory.intrinsic+json": {
              "type": "string"
            }
          },
          "metadata": {},
          "execution_count": 82
        }
      ]
    },
    {
      "cell_type": "code",
      "source": [
        "type(list_loc[1])"
      ],
      "metadata": {
        "colab": {
          "base_uri": "https://localhost:8080/"
        },
        "id": "Sxeg_CNr__Q1",
        "outputId": "ebc2062c-2b49-47a4-cf24-92569d5656ed"
      },
      "execution_count": null,
      "outputs": [
        {
          "output_type": "execute_result",
          "data": {
            "text/plain": [
              "numpy.int64"
            ]
          },
          "metadata": {},
          "execution_count": 108
        }
      ]
    },
    {
      "cell_type": "code",
      "source": [
        "test_s"
      ],
      "metadata": {
        "colab": {
          "base_uri": "https://localhost:8080/",
          "height": 53
        },
        "id": "WMGA5GQE-aGf",
        "outputId": "67b52d62-5305-4632-8ff0-c060d498707a"
      },
      "execution_count": null,
      "outputs": [
        {
          "output_type": "execute_result",
          "data": {
            "text/plain": [
              "Empty DataFrame\n",
              "Columns: [URL Hotel, Location, HotelID, Name Hotel, tags]\n",
              "Index: []"
            ],
            "text/html": [
              "\n",
              "  <div id=\"df-cc814b46-918b-4657-aa5b-b968d8d5667a\" class=\"colab-df-container\">\n",
              "    <div>\n",
              "<style scoped>\n",
              "    .dataframe tbody tr th:only-of-type {\n",
              "        vertical-align: middle;\n",
              "    }\n",
              "\n",
              "    .dataframe tbody tr th {\n",
              "        vertical-align: top;\n",
              "    }\n",
              "\n",
              "    .dataframe thead th {\n",
              "        text-align: right;\n",
              "    }\n",
              "</style>\n",
              "<table border=\"1\" class=\"dataframe\">\n",
              "  <thead>\n",
              "    <tr style=\"text-align: right;\">\n",
              "      <th></th>\n",
              "      <th>URL Hotel</th>\n",
              "      <th>Location</th>\n",
              "      <th>HotelID</th>\n",
              "      <th>Name Hotel</th>\n",
              "      <th>tags</th>\n",
              "    </tr>\n",
              "  </thead>\n",
              "  <tbody>\n",
              "  </tbody>\n",
              "</table>\n",
              "</div>\n",
              "    <div class=\"colab-df-buttons\">\n",
              "\n",
              "  <div class=\"colab-df-container\">\n",
              "    <button class=\"colab-df-convert\" onclick=\"convertToInteractive('df-cc814b46-918b-4657-aa5b-b968d8d5667a')\"\n",
              "            title=\"Convert this dataframe to an interactive table.\"\n",
              "            style=\"display:none;\">\n",
              "\n",
              "  <svg xmlns=\"http://www.w3.org/2000/svg\" height=\"24px\" viewBox=\"0 -960 960 960\">\n",
              "    <path d=\"M120-120v-720h720v720H120Zm60-500h600v-160H180v160Zm220 220h160v-160H400v160Zm0 220h160v-160H400v160ZM180-400h160v-160H180v160Zm440 0h160v-160H620v160ZM180-180h160v-160H180v160Zm440 0h160v-160H620v160Z\"/>\n",
              "  </svg>\n",
              "    </button>\n",
              "\n",
              "  <style>\n",
              "    .colab-df-container {\n",
              "      display:flex;\n",
              "      gap: 12px;\n",
              "    }\n",
              "\n",
              "    .colab-df-convert {\n",
              "      background-color: #E8F0FE;\n",
              "      border: none;\n",
              "      border-radius: 50%;\n",
              "      cursor: pointer;\n",
              "      display: none;\n",
              "      fill: #1967D2;\n",
              "      height: 32px;\n",
              "      padding: 0 0 0 0;\n",
              "      width: 32px;\n",
              "    }\n",
              "\n",
              "    .colab-df-convert:hover {\n",
              "      background-color: #E2EBFA;\n",
              "      box-shadow: 0px 1px 2px rgba(60, 64, 67, 0.3), 0px 1px 3px 1px rgba(60, 64, 67, 0.15);\n",
              "      fill: #174EA6;\n",
              "    }\n",
              "\n",
              "    .colab-df-buttons div {\n",
              "      margin-bottom: 4px;\n",
              "    }\n",
              "\n",
              "    [theme=dark] .colab-df-convert {\n",
              "      background-color: #3B4455;\n",
              "      fill: #D2E3FC;\n",
              "    }\n",
              "\n",
              "    [theme=dark] .colab-df-convert:hover {\n",
              "      background-color: #434B5C;\n",
              "      box-shadow: 0px 1px 3px 1px rgba(0, 0, 0, 0.15);\n",
              "      filter: drop-shadow(0px 1px 2px rgba(0, 0, 0, 0.3));\n",
              "      fill: #FFFFFF;\n",
              "    }\n",
              "  </style>\n",
              "\n",
              "    <script>\n",
              "      const buttonEl =\n",
              "        document.querySelector('#df-cc814b46-918b-4657-aa5b-b968d8d5667a button.colab-df-convert');\n",
              "      buttonEl.style.display =\n",
              "        google.colab.kernel.accessAllowed ? 'block' : 'none';\n",
              "\n",
              "      async function convertToInteractive(key) {\n",
              "        const element = document.querySelector('#df-cc814b46-918b-4657-aa5b-b968d8d5667a');\n",
              "        const dataTable =\n",
              "          await google.colab.kernel.invokeFunction('convertToInteractive',\n",
              "                                                    [key], {});\n",
              "        if (!dataTable) return;\n",
              "\n",
              "        const docLinkHtml = 'Like what you see? Visit the ' +\n",
              "          '<a target=\"_blank\" href=https://colab.research.google.com/notebooks/data_table.ipynb>data table notebook</a>'\n",
              "          + ' to learn more about interactive tables.';\n",
              "        element.innerHTML = '';\n",
              "        dataTable['output_type'] = 'display_data';\n",
              "        await google.colab.output.renderOutput(dataTable, element);\n",
              "        const docLink = document.createElement('div');\n",
              "        docLink.innerHTML = docLinkHtml;\n",
              "        element.appendChild(docLink);\n",
              "      }\n",
              "    </script>\n",
              "  </div>\n",
              "\n",
              "    </div>\n",
              "  </div>\n"
            ]
          },
          "metadata": {},
          "execution_count": 95
        }
      ]
    },
    {
      "cell_type": "code",
      "source": [
        "test_s.append(pd.Series(test_obj))"
      ],
      "metadata": {
        "colab": {
          "base_uri": "https://localhost:8080/"
        },
        "id": "Ppdn8Amk9Jan",
        "outputId": "1672f5b8-547b-4f03-b910-1cc1059453ed"
      },
      "execution_count": null,
      "outputs": [
        {
          "output_type": "stream",
          "name": "stderr",
          "text": [
            "<ipython-input-88-f526979d5c2d>:1: FutureWarning: The series.append method is deprecated and will be removed from pandas in a future version. Use pandas.concat instead.\n",
            "  test_s.append(pd.Series(test_obj))\n"
          ]
        },
        {
          "output_type": "execute_result",
          "data": {
            "text/plain": [
              "0    Thành phố, núi, sông, hồ, biển, mây Da Lat\n",
              "dtype: object"
            ]
          },
          "metadata": {},
          "execution_count": 88
        }
      ]
    },
    {
      "cell_type": "code",
      "source": [
        "import pickle"
      ],
      "metadata": {
        "id": "Q10Lnkg5wkv0"
      },
      "execution_count": null,
      "outputs": []
    },
    {
      "cell_type": "code",
      "source": [
        "pickle.dump(hotel, open('hotel.pkl', 'wb'))\n",
        "pickle.dump(hotel_new, open('hotel_new.pkl', 'wb'))\n",
        "pickle.dump(stop_words, open('stop_words.pkl', 'wb'))\n",
        "pickle.dump(list_loc, open('list_loc.pkl', 'wb'))\n",
        "pickle.dump(hotel_info, open('hotel_info.pkl', 'wb'))\n",
        "pickle.dump(mapping_1, open('mapping_1.pkl', 'wb'))\n",
        "pickle.dump(mapping_2, open('mapping_2.pkl', 'wb'))\n",
        "pickle.dump(mapping_3, open('mapping_3.pkl', 'wb'))\n",
        "pickle.dump(df_for_vectorizing, open('df_for_vectorizing.pkl', 'wb'))"
      ],
      "metadata": {
        "id": "QZ6G9oy4wwy7"
      },
      "execution_count": null,
      "outputs": []
    },
    {
      "cell_type": "code",
      "source": [
        "pickle.dump(hotel_new_1, open('hotel_new_1.pkl', 'wb'))"
      ],
      "metadata": {
        "id": "qSmd2nfvzJcA"
      },
      "execution_count": null,
      "outputs": []
    },
    {
      "cell_type": "code",
      "source": [
        "pickle.dump(hotel, open('hotel.pkl', 'wb'))"
      ],
      "metadata": {
        "id": "H3n43O6DZz_A"
      },
      "execution_count": null,
      "outputs": []
    },
    {
      "cell_type": "code",
      "source": [
        "mapping_1 = pickle.load(open('mapping_1.pkl', 'rb'))\n",
        "mapping_2 = pickle.load(open('mapping_2.pkl', 'rb'))\n",
        "mapping_3 = pickle.load(open('mapping_3.pkl', 'rb'))\n",
        "hotel = pickle.load(open('hotel.pkl', 'rb'))\n",
        "hotel_new = pickle.load(open('hotel_new.pkl', 'rb'))\n",
        "hotel_new_1 = pickle.load(open('hotel_new_1.pkl', 'rb'))\n",
        "list_loc = pickle.load(open('list_loc.pkl', 'rb'))\n",
        "df_for_vectorizing = pickle.load(open('df_for_vectorizing.pkl', 'rb'))\n",
        "hotel_info = pickle.load(open('mapping_3.pkl', 'rb'))"
      ],
      "metadata": {
        "id": "CN0rotP2xg6U"
      },
      "execution_count": null,
      "outputs": []
    },
    {
      "cell_type": "code",
      "source": [
        "hotel[hotel['Name Hotel'] == 'SINH ĐÔI HOUSE']['Descriptions'][4082]"
      ],
      "metadata": {
        "colab": {
          "base_uri": "https://localhost:8080/",
          "height": 70
        },
        "id": "VZ6JOHtZYMb0",
        "outputId": "6837dd84-8d63-412e-b1e5-4b8ee8a74000"
      },
      "execution_count": null,
      "outputs": [
        {
          "output_type": "execute_result",
          "data": {
            "text/plain": [
              "'Các căn tại đây có ban công, TV màn hình phẳng và phòng tắm riêng với vòi xịt/chậu rửa vệ sinh cùng dép đi trong phòng. Các căn còn được trang bị tủ lạnh và ấm đun nước. Khách lưu trú tại nhà nghỉ B&B này có thể thưởng thức bữa sáng buffet. SINH ĐÔI HOUSE nằm cách Hồ Xuân Hương 2,1 km và Công viên Yersin 2,2 km. Sân bay gần nhất là sân bay Liên Khương, nằm trong bán kính 22 km từ chỗ nghỉ.'"
            ],
            "application/vnd.google.colaboratory.intrinsic+json": {
              "type": "string"
            }
          },
          "metadata": {},
          "execution_count": 144
        }
      ]
    },
    {
      "cell_type": "code",
      "source": [
        "df_for_vectorizing_temp.loc[len(df_for_vectorizing)] = 'Thành phố, núi, sông, hồ, biển, mây Da Lat'"
      ],
      "metadata": {
        "id": "44zC7YI0zUoh"
      },
      "execution_count": null,
      "outputs": []
    },
    {
      "cell_type": "code",
      "source": [
        "df_for_vectorizing_temp"
      ],
      "metadata": {
        "colab": {
          "base_uri": "https://localhost:8080/"
        },
        "id": "uJQoNmJxHalC",
        "outputId": "1c7cea57-3039-4871-a375-84b11e4b52ed"
      },
      "execution_count": null,
      "outputs": [
        {
          "output_type": "execute_result",
          "data": {
            "text/plain": [
              "0       đà lạt tọa_lạc thành_phố đà lạt hồ xuân hương ...\n",
              "1       đà lạt tọa_lạc thành_phố đà_lạt quảng_trường l...\n",
              "2       đà lạt tọa_lạc thành_phố đà_lạt clb golf dalat...\n",
              "3       đà lạt tọa_lạc thành_phố đà_lạt công_viên yers...\n",
              "4       đà lạt tọa_lạc thành_phố đà lạt tỉnh lâm_đồng ...\n",
              "                              ...                        \n",
              "4502    huế hộ chỗ đô xe miễn_phí bếp hộ bố_trí 3 phòn...\n",
              "4503    huế tầm vườn khu_vực ghế máy giặt bếp tiện_ngh...\n",
              "4504    huế chỗ nghỉ gắn náy hòa bếp đi kèm tủ_lạnh bế...\n",
              "4505    huế hộ tv màn_hình phẳng_hô nằm kính 2 9 tử cấ...\n",
              "4506           Thành phố, núi, sông, hồ, biển, mây Da Lat\n",
              "Name: tags, Length: 4507, dtype: object"
            ]
          },
          "metadata": {},
          "execution_count": 136
        }
      ]
    },
    {
      "cell_type": "code",
      "source": [
        "list_loc = pickle.load(open('list_loc.pkl', 'rb'))"
      ],
      "metadata": {
        "id": "BJCenRcsAJmM"
      },
      "execution_count": null,
      "outputs": []
    },
    {
      "cell_type": "code",
      "source": [
        "hotel_new_1 = pickle.load(open('hotel_new_1.pkl', 'rb'))"
      ],
      "metadata": {
        "id": "4XdBi-AB_UK8"
      },
      "execution_count": null,
      "outputs": []
    },
    {
      "cell_type": "code",
      "source": [
        "type(pd.DataFrame(df_for_vectorizing))"
      ],
      "metadata": {
        "colab": {
          "base_uri": "https://localhost:8080/"
        },
        "id": "7FaH6GLp3lpv",
        "outputId": "7b2dd79e-3852-4495-c5b9-fdb41dd1a23f"
      },
      "execution_count": null,
      "outputs": [
        {
          "output_type": "execute_result",
          "data": {
            "text/plain": [
              "pandas.core.frame.DataFrame"
            ]
          },
          "metadata": {},
          "execution_count": 70
        }
      ]
    },
    {
      "cell_type": "code",
      "source": [
        "hotel.head(1)"
      ],
      "metadata": {
        "colab": {
          "base_uri": "https://localhost:8080/",
          "height": 150
        },
        "id": "V5Hjg52bexKj",
        "outputId": "fe7dacab-94d2-4da9-bcb2-328d0434c1a9"
      },
      "execution_count": null,
      "outputs": [
        {
          "output_type": "execute_result",
          "data": {
            "text/plain": [
              "                                           URL Hotel Location  HotelID  \\\n",
              "0  https://www.booking.com/hotel/vn/dalat-wind.vi...   Đà Lạt     4064   \n",
              "\n",
              "                Name Hotel                                       Descriptions  \\\n",
              "0  Dalat Wind Deluxe Hotel  Tọa lạc tại thành phố Đà Lạt, cách Hồ Xuân Hươ...   \n",
              "\n",
              "                                             Address  UserID  User  Rating  \\\n",
              "0  Lot R2 03-04. Golf Valley, Ward 2, Đà Lạt, Viê...    1187  Thảo       6   \n",
              "\n",
              "                                                tags  \n",
              "0  Đà Lạt Tọa lạc tại thành phố Đà Lạt, cách Hồ X...  "
            ],
            "text/html": [
              "\n",
              "  <div id=\"df-205bb304-8550-4357-869f-4f164c9d6f4a\" class=\"colab-df-container\">\n",
              "    <div>\n",
              "<style scoped>\n",
              "    .dataframe tbody tr th:only-of-type {\n",
              "        vertical-align: middle;\n",
              "    }\n",
              "\n",
              "    .dataframe tbody tr th {\n",
              "        vertical-align: top;\n",
              "    }\n",
              "\n",
              "    .dataframe thead th {\n",
              "        text-align: right;\n",
              "    }\n",
              "</style>\n",
              "<table border=\"1\" class=\"dataframe\">\n",
              "  <thead>\n",
              "    <tr style=\"text-align: right;\">\n",
              "      <th></th>\n",
              "      <th>URL Hotel</th>\n",
              "      <th>Location</th>\n",
              "      <th>HotelID</th>\n",
              "      <th>Name Hotel</th>\n",
              "      <th>Descriptions</th>\n",
              "      <th>Address</th>\n",
              "      <th>UserID</th>\n",
              "      <th>User</th>\n",
              "      <th>Rating</th>\n",
              "      <th>tags</th>\n",
              "    </tr>\n",
              "  </thead>\n",
              "  <tbody>\n",
              "    <tr>\n",
              "      <th>0</th>\n",
              "      <td>https://www.booking.com/hotel/vn/dalat-wind.vi...</td>\n",
              "      <td>Đà Lạt</td>\n",
              "      <td>4064</td>\n",
              "      <td>Dalat Wind Deluxe Hotel</td>\n",
              "      <td>Tọa lạc tại thành phố Đà Lạt, cách Hồ Xuân Hươ...</td>\n",
              "      <td>Lot R2 03-04. Golf Valley, Ward 2, Đà Lạt, Viê...</td>\n",
              "      <td>1187</td>\n",
              "      <td>Thảo</td>\n",
              "      <td>6</td>\n",
              "      <td>Đà Lạt Tọa lạc tại thành phố Đà Lạt, cách Hồ X...</td>\n",
              "    </tr>\n",
              "  </tbody>\n",
              "</table>\n",
              "</div>\n",
              "    <div class=\"colab-df-buttons\">\n",
              "\n",
              "  <div class=\"colab-df-container\">\n",
              "    <button class=\"colab-df-convert\" onclick=\"convertToInteractive('df-205bb304-8550-4357-869f-4f164c9d6f4a')\"\n",
              "            title=\"Convert this dataframe to an interactive table.\"\n",
              "            style=\"display:none;\">\n",
              "\n",
              "  <svg xmlns=\"http://www.w3.org/2000/svg\" height=\"24px\" viewBox=\"0 -960 960 960\">\n",
              "    <path d=\"M120-120v-720h720v720H120Zm60-500h600v-160H180v160Zm220 220h160v-160H400v160Zm0 220h160v-160H400v160ZM180-400h160v-160H180v160Zm440 0h160v-160H620v160ZM180-180h160v-160H180v160Zm440 0h160v-160H620v160Z\"/>\n",
              "  </svg>\n",
              "    </button>\n",
              "\n",
              "  <style>\n",
              "    .colab-df-container {\n",
              "      display:flex;\n",
              "      gap: 12px;\n",
              "    }\n",
              "\n",
              "    .colab-df-convert {\n",
              "      background-color: #E8F0FE;\n",
              "      border: none;\n",
              "      border-radius: 50%;\n",
              "      cursor: pointer;\n",
              "      display: none;\n",
              "      fill: #1967D2;\n",
              "      height: 32px;\n",
              "      padding: 0 0 0 0;\n",
              "      width: 32px;\n",
              "    }\n",
              "\n",
              "    .colab-df-convert:hover {\n",
              "      background-color: #E2EBFA;\n",
              "      box-shadow: 0px 1px 2px rgba(60, 64, 67, 0.3), 0px 1px 3px 1px rgba(60, 64, 67, 0.15);\n",
              "      fill: #174EA6;\n",
              "    }\n",
              "\n",
              "    .colab-df-buttons div {\n",
              "      margin-bottom: 4px;\n",
              "    }\n",
              "\n",
              "    [theme=dark] .colab-df-convert {\n",
              "      background-color: #3B4455;\n",
              "      fill: #D2E3FC;\n",
              "    }\n",
              "\n",
              "    [theme=dark] .colab-df-convert:hover {\n",
              "      background-color: #434B5C;\n",
              "      box-shadow: 0px 1px 3px 1px rgba(0, 0, 0, 0.15);\n",
              "      filter: drop-shadow(0px 1px 2px rgba(0, 0, 0, 0.3));\n",
              "      fill: #FFFFFF;\n",
              "    }\n",
              "  </style>\n",
              "\n",
              "    <script>\n",
              "      const buttonEl =\n",
              "        document.querySelector('#df-205bb304-8550-4357-869f-4f164c9d6f4a button.colab-df-convert');\n",
              "      buttonEl.style.display =\n",
              "        google.colab.kernel.accessAllowed ? 'block' : 'none';\n",
              "\n",
              "      async function convertToInteractive(key) {\n",
              "        const element = document.querySelector('#df-205bb304-8550-4357-869f-4f164c9d6f4a');\n",
              "        const dataTable =\n",
              "          await google.colab.kernel.invokeFunction('convertToInteractive',\n",
              "                                                    [key], {});\n",
              "        if (!dataTable) return;\n",
              "\n",
              "        const docLinkHtml = 'Like what you see? Visit the ' +\n",
              "          '<a target=\"_blank\" href=https://colab.research.google.com/notebooks/data_table.ipynb>data table notebook</a>'\n",
              "          + ' to learn more about interactive tables.';\n",
              "        element.innerHTML = '';\n",
              "        dataTable['output_type'] = 'display_data';\n",
              "        await google.colab.output.renderOutput(dataTable, element);\n",
              "        const docLink = document.createElement('div');\n",
              "        docLink.innerHTML = docLinkHtml;\n",
              "        element.appendChild(docLink);\n",
              "      }\n",
              "    </script>\n",
              "  </div>\n",
              "\n",
              "    </div>\n",
              "  </div>\n"
            ]
          },
          "metadata": {},
          "execution_count": 148
        }
      ]
    },
    {
      "cell_type": "code",
      "source": [],
      "metadata": {
        "id": "2ie50hr2gIgK"
      },
      "execution_count": null,
      "outputs": []
    },
    {
      "cell_type": "code",
      "source": [
        "list_hotel = hotel.drop(columns = ['Location', 'UserID', 'User', 'Rating', 'tags'])\n",
        "list_hotel = list_hotel.drop_duplicates()\n",
        "list_hotel = list_hotel.drop_duplicates(subset='Name Hotel')\n",
        "list_hotel = list_hotel.reset_index(drop = True)\n",
        "list_hotel"
      ],
      "metadata": {
        "id": "CpAKLa5rqOBJ"
      },
      "execution_count": null,
      "outputs": []
    },
    {
      "cell_type": "code",
      "source": [
        "list_hotel"
      ],
      "metadata": {
        "colab": {
          "base_uri": "https://localhost:8080/",
          "height": 597
        },
        "id": "7tP6P3o2ieNk",
        "outputId": "95eb7e66-9c0b-4ee3-c441-7232c0030f7d"
      },
      "execution_count": null,
      "outputs": [
        {
          "output_type": "execute_result",
          "data": {
            "text/plain": [
              "                                              URL Hotel  HotelID  \\\n",
              "0     https://www.booking.com/hotel/vn/dalat-wind.vi...     4064   \n",
              "1     https://www.booking.com/hotel/vn/tropicana-2.v...     1173   \n",
              "2     https://www.booking.com/hotel/vn/reddoorz-near...     2090   \n",
              "3     https://www.booking.com/hotel/vn/royal-palace-...      175   \n",
              "4     https://www.booking.com/hotel/vn/jolie-house-a...     1113   \n",
              "...                                                 ...      ...   \n",
              "4501  https://www.booking.com/hotel/vn/hung-long-hos...     1083   \n",
              "4502  https://www.booking.com/hotel/vn/le-house-hue....     1194   \n",
              "4503  https://www.booking.com/hotel/vn/pinehill-tu-h...     2196   \n",
              "4504  https://www.booking.com/hotel/vn/snooze-villa-...     4444   \n",
              "4505  https://www.booking.com/hotel/vn/littleboss.vi...      135   \n",
              "\n",
              "                         Name Hotel  \\\n",
              "0           Dalat Wind Deluxe Hotel   \n",
              "1            Miền Nhiệt Đới 2 Hotel   \n",
              "2                        Raon Dalat   \n",
              "3                      Royal Palace   \n",
              "4                       Jolie House   \n",
              "...                             ...   \n",
              "4501               Hưng Long Hostel   \n",
              "4502                       Le House   \n",
              "4503  Pinehill Tu Hieu Hue Homestay   \n",
              "4504                  Snooze Garden   \n",
              "4505                     LittleBoss   \n",
              "\n",
              "                                           Descriptions  \\\n",
              "0     Tọa lạc tại thành phố Đà Lạt, cách Hồ Xuân Hươ...   \n",
              "1     Tọa lạc tại thành phố Đà Lạt, cách Quảng trườn...   \n",
              "2     Tọa lạc tại thành phố Đà Lạt, cách CLB chơi go...   \n",
              "3     Tọa lạc tại thành phố Đà Lạt, cách Công viên Y...   \n",
              "4     Tọa lạc ở thành phố Đà Lạt thuộc tỉnh Lâm Đồng...   \n",
              "...                                                 ...   \n",
              "4501  Tất cả phòng nghỉ tại đây đều có khu vực ghế n...   \n",
              "4502  Căn hộ này có chỗ đỗ xe riêng miễn phí và bếp...   \n",
              "4503  Các căn tại đây có tầm nhìn ra vườn, khu vực g...   \n",
              "4504  Mỗi chỗ nghỉ gắn náy điều hòa tại đây đều có b...   \n",
              "4505  Căn hộ có TV màn hình phẳng. Căn hộ nằm trong...   \n",
              "\n",
              "                                                Address  \n",
              "0     Lot R2 03-04. Golf Valley, Ward 2, Đà Lạt, Viê...  \n",
              "1          64 Phan Nhu Thach, ward 1, Đà Lạt, Việt Nam  \n",
              "2           46 Tran Khanh Du, Ward 8, Đà Lạt, Việt Nam  \n",
              "3     Đường Hà Huy Tập 55 49A Đường Hà Huy Tập, Đà L...  \n",
              "4     104 Phù Đổng Thiên Vương, Phường 8, Đà Lạt, Vi...  \n",
              "...                                                 ...  \n",
              "4501           Trần Quang Khải 5 kiệt 6, Huế, Việt Nam  \n",
              "4502       27 Kiệt 42 Nguyễn Công Trứ 1, Huế, Việt Nam  \n",
              "4503          72 C Le Ngo Cat Thuy Xuan, Huế, Việt Nam  \n",
              "4504                    332/3 Bạch Đằng, Huế, Việt Nam  \n",
              "4505  The Manor Crown Đường Tố Hữu, TP Huêa, Huế, Vi...  \n",
              "\n",
              "[4506 rows x 5 columns]"
            ],
            "text/html": [
              "\n",
              "  <div id=\"df-76659a68-b0f4-40b5-a3c6-6121383bd60a\" class=\"colab-df-container\">\n",
              "    <div>\n",
              "<style scoped>\n",
              "    .dataframe tbody tr th:only-of-type {\n",
              "        vertical-align: middle;\n",
              "    }\n",
              "\n",
              "    .dataframe tbody tr th {\n",
              "        vertical-align: top;\n",
              "    }\n",
              "\n",
              "    .dataframe thead th {\n",
              "        text-align: right;\n",
              "    }\n",
              "</style>\n",
              "<table border=\"1\" class=\"dataframe\">\n",
              "  <thead>\n",
              "    <tr style=\"text-align: right;\">\n",
              "      <th></th>\n",
              "      <th>URL Hotel</th>\n",
              "      <th>HotelID</th>\n",
              "      <th>Name Hotel</th>\n",
              "      <th>Descriptions</th>\n",
              "      <th>Address</th>\n",
              "    </tr>\n",
              "  </thead>\n",
              "  <tbody>\n",
              "    <tr>\n",
              "      <th>0</th>\n",
              "      <td>https://www.booking.com/hotel/vn/dalat-wind.vi...</td>\n",
              "      <td>4064</td>\n",
              "      <td>Dalat Wind Deluxe Hotel</td>\n",
              "      <td>Tọa lạc tại thành phố Đà Lạt, cách Hồ Xuân Hươ...</td>\n",
              "      <td>Lot R2 03-04. Golf Valley, Ward 2, Đà Lạt, Viê...</td>\n",
              "    </tr>\n",
              "    <tr>\n",
              "      <th>1</th>\n",
              "      <td>https://www.booking.com/hotel/vn/tropicana-2.v...</td>\n",
              "      <td>1173</td>\n",
              "      <td>Miền Nhiệt Đới 2 Hotel</td>\n",
              "      <td>Tọa lạc tại thành phố Đà Lạt, cách Quảng trườn...</td>\n",
              "      <td>64 Phan Nhu Thach, ward 1, Đà Lạt, Việt Nam</td>\n",
              "    </tr>\n",
              "    <tr>\n",
              "      <th>2</th>\n",
              "      <td>https://www.booking.com/hotel/vn/reddoorz-near...</td>\n",
              "      <td>2090</td>\n",
              "      <td>Raon Dalat</td>\n",
              "      <td>Tọa lạc tại thành phố Đà Lạt, cách CLB chơi go...</td>\n",
              "      <td>46 Tran Khanh Du, Ward 8, Đà Lạt, Việt Nam</td>\n",
              "    </tr>\n",
              "    <tr>\n",
              "      <th>3</th>\n",
              "      <td>https://www.booking.com/hotel/vn/royal-palace-...</td>\n",
              "      <td>175</td>\n",
              "      <td>Royal Palace</td>\n",
              "      <td>Tọa lạc tại thành phố Đà Lạt, cách Công viên Y...</td>\n",
              "      <td>Đường Hà Huy Tập 55 49A Đường Hà Huy Tập, Đà L...</td>\n",
              "    </tr>\n",
              "    <tr>\n",
              "      <th>4</th>\n",
              "      <td>https://www.booking.com/hotel/vn/jolie-house-a...</td>\n",
              "      <td>1113</td>\n",
              "      <td>Jolie House</td>\n",
              "      <td>Tọa lạc ở thành phố Đà Lạt thuộc tỉnh Lâm Đồng...</td>\n",
              "      <td>104 Phù Đổng Thiên Vương, Phường 8, Đà Lạt, Vi...</td>\n",
              "    </tr>\n",
              "    <tr>\n",
              "      <th>...</th>\n",
              "      <td>...</td>\n",
              "      <td>...</td>\n",
              "      <td>...</td>\n",
              "      <td>...</td>\n",
              "      <td>...</td>\n",
              "    </tr>\n",
              "    <tr>\n",
              "      <th>4501</th>\n",
              "      <td>https://www.booking.com/hotel/vn/hung-long-hos...</td>\n",
              "      <td>1083</td>\n",
              "      <td>Hưng Long Hostel</td>\n",
              "      <td>Tất cả phòng nghỉ tại đây đều có khu vực ghế n...</td>\n",
              "      <td>Trần Quang Khải 5 kiệt 6, Huế, Việt Nam</td>\n",
              "    </tr>\n",
              "    <tr>\n",
              "      <th>4502</th>\n",
              "      <td>https://www.booking.com/hotel/vn/le-house-hue....</td>\n",
              "      <td>1194</td>\n",
              "      <td>Le House</td>\n",
              "      <td>Căn hộ này có chỗ đỗ xe riêng miễn phí và bếp...</td>\n",
              "      <td>27 Kiệt 42 Nguyễn Công Trứ 1, Huế, Việt Nam</td>\n",
              "    </tr>\n",
              "    <tr>\n",
              "      <th>4503</th>\n",
              "      <td>https://www.booking.com/hotel/vn/pinehill-tu-h...</td>\n",
              "      <td>2196</td>\n",
              "      <td>Pinehill Tu Hieu Hue Homestay</td>\n",
              "      <td>Các căn tại đây có tầm nhìn ra vườn, khu vực g...</td>\n",
              "      <td>72 C Le Ngo Cat Thuy Xuan, Huế, Việt Nam</td>\n",
              "    </tr>\n",
              "    <tr>\n",
              "      <th>4504</th>\n",
              "      <td>https://www.booking.com/hotel/vn/snooze-villa-...</td>\n",
              "      <td>4444</td>\n",
              "      <td>Snooze Garden</td>\n",
              "      <td>Mỗi chỗ nghỉ gắn náy điều hòa tại đây đều có b...</td>\n",
              "      <td>332/3 Bạch Đằng, Huế, Việt Nam</td>\n",
              "    </tr>\n",
              "    <tr>\n",
              "      <th>4505</th>\n",
              "      <td>https://www.booking.com/hotel/vn/littleboss.vi...</td>\n",
              "      <td>135</td>\n",
              "      <td>LittleBoss</td>\n",
              "      <td>Căn hộ có TV màn hình phẳng. Căn hộ nằm trong...</td>\n",
              "      <td>The Manor Crown Đường Tố Hữu, TP Huêa, Huế, Vi...</td>\n",
              "    </tr>\n",
              "  </tbody>\n",
              "</table>\n",
              "<p>4506 rows × 5 columns</p>\n",
              "</div>\n",
              "    <div class=\"colab-df-buttons\">\n",
              "\n",
              "  <div class=\"colab-df-container\">\n",
              "    <button class=\"colab-df-convert\" onclick=\"convertToInteractive('df-76659a68-b0f4-40b5-a3c6-6121383bd60a')\"\n",
              "            title=\"Convert this dataframe to an interactive table.\"\n",
              "            style=\"display:none;\">\n",
              "\n",
              "  <svg xmlns=\"http://www.w3.org/2000/svg\" height=\"24px\" viewBox=\"0 -960 960 960\">\n",
              "    <path d=\"M120-120v-720h720v720H120Zm60-500h600v-160H180v160Zm220 220h160v-160H400v160Zm0 220h160v-160H400v160ZM180-400h160v-160H180v160Zm440 0h160v-160H620v160ZM180-180h160v-160H180v160Zm440 0h160v-160H620v160Z\"/>\n",
              "  </svg>\n",
              "    </button>\n",
              "\n",
              "  <style>\n",
              "    .colab-df-container {\n",
              "      display:flex;\n",
              "      gap: 12px;\n",
              "    }\n",
              "\n",
              "    .colab-df-convert {\n",
              "      background-color: #E8F0FE;\n",
              "      border: none;\n",
              "      border-radius: 50%;\n",
              "      cursor: pointer;\n",
              "      display: none;\n",
              "      fill: #1967D2;\n",
              "      height: 32px;\n",
              "      padding: 0 0 0 0;\n",
              "      width: 32px;\n",
              "    }\n",
              "\n",
              "    .colab-df-convert:hover {\n",
              "      background-color: #E2EBFA;\n",
              "      box-shadow: 0px 1px 2px rgba(60, 64, 67, 0.3), 0px 1px 3px 1px rgba(60, 64, 67, 0.15);\n",
              "      fill: #174EA6;\n",
              "    }\n",
              "\n",
              "    .colab-df-buttons div {\n",
              "      margin-bottom: 4px;\n",
              "    }\n",
              "\n",
              "    [theme=dark] .colab-df-convert {\n",
              "      background-color: #3B4455;\n",
              "      fill: #D2E3FC;\n",
              "    }\n",
              "\n",
              "    [theme=dark] .colab-df-convert:hover {\n",
              "      background-color: #434B5C;\n",
              "      box-shadow: 0px 1px 3px 1px rgba(0, 0, 0, 0.15);\n",
              "      filter: drop-shadow(0px 1px 2px rgba(0, 0, 0, 0.3));\n",
              "      fill: #FFFFFF;\n",
              "    }\n",
              "  </style>\n",
              "\n",
              "    <script>\n",
              "      const buttonEl =\n",
              "        document.querySelector('#df-76659a68-b0f4-40b5-a3c6-6121383bd60a button.colab-df-convert');\n",
              "      buttonEl.style.display =\n",
              "        google.colab.kernel.accessAllowed ? 'block' : 'none';\n",
              "\n",
              "      async function convertToInteractive(key) {\n",
              "        const element = document.querySelector('#df-76659a68-b0f4-40b5-a3c6-6121383bd60a');\n",
              "        const dataTable =\n",
              "          await google.colab.kernel.invokeFunction('convertToInteractive',\n",
              "                                                    [key], {});\n",
              "        if (!dataTable) return;\n",
              "\n",
              "        const docLinkHtml = 'Like what you see? Visit the ' +\n",
              "          '<a target=\"_blank\" href=https://colab.research.google.com/notebooks/data_table.ipynb>data table notebook</a>'\n",
              "          + ' to learn more about interactive tables.';\n",
              "        element.innerHTML = '';\n",
              "        dataTable['output_type'] = 'display_data';\n",
              "        await google.colab.output.renderOutput(dataTable, element);\n",
              "        const docLink = document.createElement('div');\n",
              "        docLink.innerHTML = docLinkHtml;\n",
              "        element.appendChild(docLink);\n",
              "      }\n",
              "    </script>\n",
              "  </div>\n",
              "\n",
              "\n",
              "<div id=\"df-1ed975b4-fd08-4c5a-a4af-e8504fac0e24\">\n",
              "  <button class=\"colab-df-quickchart\" onclick=\"quickchart('df-1ed975b4-fd08-4c5a-a4af-e8504fac0e24')\"\n",
              "            title=\"Suggest charts\"\n",
              "            style=\"display:none;\">\n",
              "\n",
              "<svg xmlns=\"http://www.w3.org/2000/svg\" height=\"24px\"viewBox=\"0 0 24 24\"\n",
              "     width=\"24px\">\n",
              "    <g>\n",
              "        <path d=\"M19 3H5c-1.1 0-2 .9-2 2v14c0 1.1.9 2 2 2h14c1.1 0 2-.9 2-2V5c0-1.1-.9-2-2-2zM9 17H7v-7h2v7zm4 0h-2V7h2v10zm4 0h-2v-4h2v4z\"/>\n",
              "    </g>\n",
              "</svg>\n",
              "  </button>\n",
              "\n",
              "<style>\n",
              "  .colab-df-quickchart {\n",
              "      --bg-color: #E8F0FE;\n",
              "      --fill-color: #1967D2;\n",
              "      --hover-bg-color: #E2EBFA;\n",
              "      --hover-fill-color: #174EA6;\n",
              "      --disabled-fill-color: #AAA;\n",
              "      --disabled-bg-color: #DDD;\n",
              "  }\n",
              "\n",
              "  [theme=dark] .colab-df-quickchart {\n",
              "      --bg-color: #3B4455;\n",
              "      --fill-color: #D2E3FC;\n",
              "      --hover-bg-color: #434B5C;\n",
              "      --hover-fill-color: #FFFFFF;\n",
              "      --disabled-bg-color: #3B4455;\n",
              "      --disabled-fill-color: #666;\n",
              "  }\n",
              "\n",
              "  .colab-df-quickchart {\n",
              "    background-color: var(--bg-color);\n",
              "    border: none;\n",
              "    border-radius: 50%;\n",
              "    cursor: pointer;\n",
              "    display: none;\n",
              "    fill: var(--fill-color);\n",
              "    height: 32px;\n",
              "    padding: 0;\n",
              "    width: 32px;\n",
              "  }\n",
              "\n",
              "  .colab-df-quickchart:hover {\n",
              "    background-color: var(--hover-bg-color);\n",
              "    box-shadow: 0 1px 2px rgba(60, 64, 67, 0.3), 0 1px 3px 1px rgba(60, 64, 67, 0.15);\n",
              "    fill: var(--button-hover-fill-color);\n",
              "  }\n",
              "\n",
              "  .colab-df-quickchart-complete:disabled,\n",
              "  .colab-df-quickchart-complete:disabled:hover {\n",
              "    background-color: var(--disabled-bg-color);\n",
              "    fill: var(--disabled-fill-color);\n",
              "    box-shadow: none;\n",
              "  }\n",
              "\n",
              "  .colab-df-spinner {\n",
              "    border: 2px solid var(--fill-color);\n",
              "    border-color: transparent;\n",
              "    border-bottom-color: var(--fill-color);\n",
              "    animation:\n",
              "      spin 1s steps(1) infinite;\n",
              "  }\n",
              "\n",
              "  @keyframes spin {\n",
              "    0% {\n",
              "      border-color: transparent;\n",
              "      border-bottom-color: var(--fill-color);\n",
              "      border-left-color: var(--fill-color);\n",
              "    }\n",
              "    20% {\n",
              "      border-color: transparent;\n",
              "      border-left-color: var(--fill-color);\n",
              "      border-top-color: var(--fill-color);\n",
              "    }\n",
              "    30% {\n",
              "      border-color: transparent;\n",
              "      border-left-color: var(--fill-color);\n",
              "      border-top-color: var(--fill-color);\n",
              "      border-right-color: var(--fill-color);\n",
              "    }\n",
              "    40% {\n",
              "      border-color: transparent;\n",
              "      border-right-color: var(--fill-color);\n",
              "      border-top-color: var(--fill-color);\n",
              "    }\n",
              "    60% {\n",
              "      border-color: transparent;\n",
              "      border-right-color: var(--fill-color);\n",
              "    }\n",
              "    80% {\n",
              "      border-color: transparent;\n",
              "      border-right-color: var(--fill-color);\n",
              "      border-bottom-color: var(--fill-color);\n",
              "    }\n",
              "    90% {\n",
              "      border-color: transparent;\n",
              "      border-bottom-color: var(--fill-color);\n",
              "    }\n",
              "  }\n",
              "</style>\n",
              "\n",
              "  <script>\n",
              "    async function quickchart(key) {\n",
              "      const quickchartButtonEl =\n",
              "        document.querySelector('#' + key + ' button');\n",
              "      quickchartButtonEl.disabled = true;  // To prevent multiple clicks.\n",
              "      quickchartButtonEl.classList.add('colab-df-spinner');\n",
              "      try {\n",
              "        const charts = await google.colab.kernel.invokeFunction(\n",
              "            'suggestCharts', [key], {});\n",
              "      } catch (error) {\n",
              "        console.error('Error during call to suggestCharts:', error);\n",
              "      }\n",
              "      quickchartButtonEl.classList.remove('colab-df-spinner');\n",
              "      quickchartButtonEl.classList.add('colab-df-quickchart-complete');\n",
              "    }\n",
              "    (() => {\n",
              "      let quickchartButtonEl =\n",
              "        document.querySelector('#df-1ed975b4-fd08-4c5a-a4af-e8504fac0e24 button');\n",
              "      quickchartButtonEl.style.display =\n",
              "        google.colab.kernel.accessAllowed ? 'block' : 'none';\n",
              "    })();\n",
              "  </script>\n",
              "</div>\n",
              "    </div>\n",
              "  </div>\n"
            ]
          },
          "metadata": {},
          "execution_count": 208
        }
      ]
    },
    {
      "cell_type": "code",
      "source": [
        "ttt[1][list(ttt[1].values())[1]]"
      ],
      "metadata": {
        "colab": {
          "base_uri": "https://localhost:8080/",
          "height": 176
        },
        "id": "TIJQahzah-Wg",
        "outputId": "9448297f-2f6c-4967-c589-61ccb569cfe3"
      },
      "execution_count": null,
      "outputs": [
        {
          "output_type": "error",
          "ename": "IndexError",
          "evalue": "ignored",
          "traceback": [
            "\u001b[0;31m---------------------------------------------------------------------------\u001b[0m",
            "\u001b[0;31mIndexError\u001b[0m                                Traceback (most recent call last)",
            "\u001b[0;32m<ipython-input-171-d90261490710>\u001b[0m in \u001b[0;36m<cell line: 1>\u001b[0;34m()\u001b[0m\n\u001b[0;32m----> 1\u001b[0;31m \u001b[0mttt\u001b[0m\u001b[0;34m[\u001b[0m\u001b[0;36m1\u001b[0m\u001b[0;34m]\u001b[0m\u001b[0;34m[\u001b[0m\u001b[0mlist\u001b[0m\u001b[0;34m(\u001b[0m\u001b[0mttt\u001b[0m\u001b[0;34m[\u001b[0m\u001b[0;36m1\u001b[0m\u001b[0;34m]\u001b[0m\u001b[0;34m.\u001b[0m\u001b[0mvalues\u001b[0m\u001b[0;34m(\u001b[0m\u001b[0;34m)\u001b[0m\u001b[0;34m)\u001b[0m\u001b[0;34m[\u001b[0m\u001b[0;36m1\u001b[0m\u001b[0;34m]\u001b[0m\u001b[0;34m]\u001b[0m\u001b[0;34m\u001b[0m\u001b[0;34m\u001b[0m\u001b[0m\n\u001b[0m",
            "\u001b[0;31mIndexError\u001b[0m: list index out of range"
          ]
        }
      ]
    },
    {
      "cell_type": "code",
      "source": [
        "list_hotel[list_hotel['HotelID'] == 4064][:1]"
      ],
      "metadata": {
        "colab": {
          "base_uri": "https://localhost:8080/",
          "height": 80
        },
        "id": "frWuD9xQgPHC",
        "outputId": "664f9a5e-b155-4699-8a65-073a6c57d1a6"
      },
      "execution_count": null,
      "outputs": [
        {
          "output_type": "execute_result",
          "data": {
            "text/plain": [
              "                                           URL Hotel  HotelID  \\\n",
              "0  https://www.booking.com/hotel/vn/dalat-wind.vi...     4064   \n",
              "\n",
              "                Name Hotel                                       Descriptions  \n",
              "0  Dalat Wind Deluxe Hotel  Tọa lạc tại thành phố Đà Lạt, cách Hồ Xuân Hươ...  "
            ],
            "text/html": [
              "\n",
              "  <div id=\"df-fe7da16f-778a-4d0c-894d-cf7a6e110644\" class=\"colab-df-container\">\n",
              "    <div>\n",
              "<style scoped>\n",
              "    .dataframe tbody tr th:only-of-type {\n",
              "        vertical-align: middle;\n",
              "    }\n",
              "\n",
              "    .dataframe tbody tr th {\n",
              "        vertical-align: top;\n",
              "    }\n",
              "\n",
              "    .dataframe thead th {\n",
              "        text-align: right;\n",
              "    }\n",
              "</style>\n",
              "<table border=\"1\" class=\"dataframe\">\n",
              "  <thead>\n",
              "    <tr style=\"text-align: right;\">\n",
              "      <th></th>\n",
              "      <th>URL Hotel</th>\n",
              "      <th>HotelID</th>\n",
              "      <th>Name Hotel</th>\n",
              "      <th>Descriptions</th>\n",
              "    </tr>\n",
              "  </thead>\n",
              "  <tbody>\n",
              "    <tr>\n",
              "      <th>0</th>\n",
              "      <td>https://www.booking.com/hotel/vn/dalat-wind.vi...</td>\n",
              "      <td>4064</td>\n",
              "      <td>Dalat Wind Deluxe Hotel</td>\n",
              "      <td>Tọa lạc tại thành phố Đà Lạt, cách Hồ Xuân Hươ...</td>\n",
              "    </tr>\n",
              "  </tbody>\n",
              "</table>\n",
              "</div>\n",
              "    <div class=\"colab-df-buttons\">\n",
              "\n",
              "  <div class=\"colab-df-container\">\n",
              "    <button class=\"colab-df-convert\" onclick=\"convertToInteractive('df-fe7da16f-778a-4d0c-894d-cf7a6e110644')\"\n",
              "            title=\"Convert this dataframe to an interactive table.\"\n",
              "            style=\"display:none;\">\n",
              "\n",
              "  <svg xmlns=\"http://www.w3.org/2000/svg\" height=\"24px\" viewBox=\"0 -960 960 960\">\n",
              "    <path d=\"M120-120v-720h720v720H120Zm60-500h600v-160H180v160Zm220 220h160v-160H400v160Zm0 220h160v-160H400v160ZM180-400h160v-160H180v160Zm440 0h160v-160H620v160ZM180-180h160v-160H180v160Zm440 0h160v-160H620v160Z\"/>\n",
              "  </svg>\n",
              "    </button>\n",
              "\n",
              "  <style>\n",
              "    .colab-df-container {\n",
              "      display:flex;\n",
              "      gap: 12px;\n",
              "    }\n",
              "\n",
              "    .colab-df-convert {\n",
              "      background-color: #E8F0FE;\n",
              "      border: none;\n",
              "      border-radius: 50%;\n",
              "      cursor: pointer;\n",
              "      display: none;\n",
              "      fill: #1967D2;\n",
              "      height: 32px;\n",
              "      padding: 0 0 0 0;\n",
              "      width: 32px;\n",
              "    }\n",
              "\n",
              "    .colab-df-convert:hover {\n",
              "      background-color: #E2EBFA;\n",
              "      box-shadow: 0px 1px 2px rgba(60, 64, 67, 0.3), 0px 1px 3px 1px rgba(60, 64, 67, 0.15);\n",
              "      fill: #174EA6;\n",
              "    }\n",
              "\n",
              "    .colab-df-buttons div {\n",
              "      margin-bottom: 4px;\n",
              "    }\n",
              "\n",
              "    [theme=dark] .colab-df-convert {\n",
              "      background-color: #3B4455;\n",
              "      fill: #D2E3FC;\n",
              "    }\n",
              "\n",
              "    [theme=dark] .colab-df-convert:hover {\n",
              "      background-color: #434B5C;\n",
              "      box-shadow: 0px 1px 3px 1px rgba(0, 0, 0, 0.15);\n",
              "      filter: drop-shadow(0px 1px 2px rgba(0, 0, 0, 0.3));\n",
              "      fill: #FFFFFF;\n",
              "    }\n",
              "  </style>\n",
              "\n",
              "    <script>\n",
              "      const buttonEl =\n",
              "        document.querySelector('#df-fe7da16f-778a-4d0c-894d-cf7a6e110644 button.colab-df-convert');\n",
              "      buttonEl.style.display =\n",
              "        google.colab.kernel.accessAllowed ? 'block' : 'none';\n",
              "\n",
              "      async function convertToInteractive(key) {\n",
              "        const element = document.querySelector('#df-fe7da16f-778a-4d0c-894d-cf7a6e110644');\n",
              "        const dataTable =\n",
              "          await google.colab.kernel.invokeFunction('convertToInteractive',\n",
              "                                                    [key], {});\n",
              "        if (!dataTable) return;\n",
              "\n",
              "        const docLinkHtml = 'Like what you see? Visit the ' +\n",
              "          '<a target=\"_blank\" href=https://colab.research.google.com/notebooks/data_table.ipynb>data table notebook</a>'\n",
              "          + ' to learn more about interactive tables.';\n",
              "        element.innerHTML = '';\n",
              "        dataTable['output_type'] = 'display_data';\n",
              "        await google.colab.output.renderOutput(dataTable, element);\n",
              "        const docLink = document.createElement('div');\n",
              "        docLink.innerHTML = docLinkHtml;\n",
              "        element.appendChild(docLink);\n",
              "      }\n",
              "    </script>\n",
              "  </div>\n",
              "\n",
              "    </div>\n",
              "  </div>\n"
            ]
          },
          "metadata": {},
          "execution_count": 162
        }
      ]
    },
    {
      "cell_type": "code",
      "source": [
        "list(ttt[1].keys())\n",
        "re.sub('[^\\w\\s]', '', str(list(ttt[1].keys())))"
      ],
      "metadata": {
        "colab": {
          "base_uri": "https://localhost:8080/",
          "height": 35
        },
        "id": "JOY1coaXflBx",
        "outputId": "6468e020-514f-4cd8-edfe-0bf612c56cd5"
      },
      "execution_count": null,
      "outputs": [
        {
          "output_type": "execute_result",
          "data": {
            "text/plain": [
              "'2496'"
            ],
            "application/vnd.google.colaboratory.intrinsic+json": {
              "type": "string"
            }
          },
          "metadata": {},
          "execution_count": 194
        }
      ]
    },
    {
      "cell_type": "code",
      "source": [
        "def convert_it(a):\n",
        "  return int(re.sub('[^\\w\\s]', '', str(list(a.keys()))))"
      ],
      "metadata": {
        "id": "Y1lNZgEfng_H"
      },
      "execution_count": null,
      "outputs": []
    },
    {
      "cell_type": "code",
      "source": [
        "list_testtt = []\n",
        "for i in range(len(ttt)):\n",
        "  list_testtt.append(convert_it(ttt[i]))"
      ],
      "metadata": {
        "id": "g-tvzbkJn2i5"
      },
      "execution_count": null,
      "outputs": []
    },
    {
      "cell_type": "code",
      "source": [
        "list_testtt = pd.DataFrame(list_testtt)"
      ],
      "metadata": {
        "id": "t6PzyvX4n9w3"
      },
      "execution_count": null,
      "outputs": []
    },
    {
      "cell_type": "code",
      "source": [
        "list_testtt"
      ],
      "metadata": {
        "colab": {
          "base_uri": "https://localhost:8080/"
        },
        "id": "RZ0bM81SoU9w",
        "outputId": "2cfd284b-268d-4a11-cbdd-305a2d44095f"
      },
      "execution_count": null,
      "outputs": [
        {
          "output_type": "execute_result",
          "data": {
            "text/plain": [
              "2496"
            ]
          },
          "metadata": {},
          "execution_count": 327
        }
      ]
    },
    {
      "cell_type": "code",
      "source": [
        "reccomend_list"
      ],
      "metadata": {
        "id": "iJGX63A8oe4n"
      },
      "execution_count": null,
      "outputs": []
    },
    {
      "cell_type": "code",
      "source": [
        "for i in range(len(reccomend_list))"
      ],
      "metadata": {
        "id": "tqc9qiiAnrXo"
      },
      "execution_count": null,
      "outputs": []
    },
    {
      "cell_type": "code",
      "source": [
        "a ="
      ],
      "metadata": {
        "id": "mrAizFyUyVeG"
      },
      "execution_count": null,
      "outputs": []
    },
    {
      "cell_type": "code",
      "source": [],
      "metadata": {
        "colab": {
          "base_uri": "https://localhost:8080/",
          "height": 35
        },
        "id": "bbUSPglh0-MN",
        "outputId": "52a6247f-ffda-4473-cc9d-700fbfa0df93"
      },
      "execution_count": null,
      "outputs": [
        {
          "output_type": "execute_result",
          "data": {
            "text/plain": [
              "\"['05 Phố Kim Đồng, Thị Trấn Sapa, Lào Cai, Sa Pa, Việt Nam']\""
            ],
            "application/vnd.google.colaboratory.intrinsic+json": {
              "type": "string"
            }
          },
          "metadata": {},
          "execution_count": 278
        }
      ]
    },
    {
      "cell_type": "code",
      "source": [
        "a.strip('[]\\'\\\\')"
      ],
      "metadata": {
        "colab": {
          "base_uri": "https://localhost:8080/",
          "height": 87
        },
        "id": "6JjM815_z_jz",
        "outputId": "a9d02a06-9879-4d18-dcd7-ab227dec995f"
      },
      "execution_count": null,
      "outputs": [
        {
          "output_type": "execute_result",
          "data": {
            "text/plain": [
              "'https://www.booking.com/hotel/vn/may-ho-sapa.vi.html?label=gen173nr-1FCAEoggI46AdIKlgEaPQBiAEBmAEquAEXyAEM2AEB6AEB-AECiAIBqAIDuALJm9ybBsACAdICJDE3MzdlYWUwLTU1ZDktNGQzNi1hMGZlLTU5MGRkZDc0ODY5MtgCBeACAQ&sid=842627633388b4367a2fb42d0ca3ab7f&aid=304142&ucfs=1&arphpl=1&dest_id=-3728113&dest_type=city&group_adults=2&req_adults=2&no_rooms=1&group_children=0&req_children=0&hpos=23&hapos=48&sr_order=popularity&srpvid=b72a41e405bb0095&srepoch=1669022538&from=searchresults#hotelTmpl'"
            ],
            "application/vnd.google.colaboratory.intrinsic+json": {
              "type": "string"
            }
          },
          "metadata": {},
          "execution_count": 268
        }
      ]
    },
    {
      "cell_type": "code",
      "source": [
        "test_kkk[1] = list_hotel[list_hotel['HotelID'] == list_testtt[1]]"
      ],
      "metadata": {
        "colab": {
          "base_uri": "https://localhost:8080/",
          "height": 176
        },
        "id": "al1wZ-YHxX01",
        "outputId": "8d247bba-f340-4701-9958-b58c532298e6"
      },
      "execution_count": null,
      "outputs": [
        {
          "output_type": "error",
          "ename": "NameError",
          "evalue": "ignored",
          "traceback": [
            "\u001b[0;31m---------------------------------------------------------------------------\u001b[0m",
            "\u001b[0;31mNameError\u001b[0m                                 Traceback (most recent call last)",
            "\u001b[0;32m<ipython-input-262-5cef98f62961>\u001b[0m in \u001b[0;36m<cell line: 1>\u001b[0;34m()\u001b[0m\n\u001b[0;32m----> 1\u001b[0;31m \u001b[0mtest_kkk\u001b[0m\u001b[0;34m[\u001b[0m\u001b[0;36m1\u001b[0m\u001b[0;34m]\u001b[0m \u001b[0;34m=\u001b[0m \u001b[0mlist_hotel\u001b[0m\u001b[0;34m[\u001b[0m\u001b[0mlist_hotel\u001b[0m\u001b[0;34m[\u001b[0m\u001b[0;34m'HotelID'\u001b[0m\u001b[0;34m]\u001b[0m \u001b[0;34m==\u001b[0m \u001b[0mlist_testtt\u001b[0m\u001b[0;34m[\u001b[0m\u001b[0;36m1\u001b[0m\u001b[0;34m]\u001b[0m\u001b[0;34m]\u001b[0m\u001b[0;34m\u001b[0m\u001b[0;34m\u001b[0m\u001b[0m\n\u001b[0m",
            "\u001b[0;31mNameError\u001b[0m: name 'test_kkk' is not defined"
          ]
        }
      ]
    },
    {
      "cell_type": "code",
      "source": [
        "list_testtt"
      ],
      "metadata": {
        "colab": {
          "base_uri": "https://localhost:8080/"
        },
        "id": "5C5TW0Li14Or",
        "outputId": "d2c087ed-41cc-4ff0-ec49-6ea93a4fee5c"
      },
      "execution_count": null,
      "outputs": [
        {
          "output_type": "execute_result",
          "data": {
            "text/plain": [
              "[2504, 2496, 205, 3232, 4486, 1775, 1168, 4295]"
            ]
          },
          "metadata": {},
          "execution_count": 324
        }
      ]
    },
    {
      "cell_type": "code",
      "source": [
        "str(list_hotel[list_hotel['HotelID'] == list_testtt[1]]['Name Hotel'].values).strip('[]\\'\\\\')\n",
        "str(list_hotel[list_hotel['HotelID'] == list_testtt[1]]['Address'].values).strip('[]\\'\\\\')\n",
        "str(list_hotel[list_hotel['HotelID'] == list_testtt[1]]['Descriptions'].values).strip('[]\\'\\\\')\n",
        "str(list_hotel[list_hotel['HotelID'] == list_testtt[1]]['URL Hotel'].values).strip('[]\\'\\\\')"
      ],
      "metadata": {
        "colab": {
          "base_uri": "https://localhost:8080/",
          "height": 35
        },
        "id": "lykquh2t0mkM",
        "outputId": "d85b1157-de87-47d0-80f6-12c42900241b"
      },
      "execution_count": null,
      "outputs": [
        {
          "output_type": "execute_result",
          "data": {
            "text/plain": [
              "'Mây Hồ Hotel Sapa'"
            ],
            "application/vnd.google.colaboratory.intrinsic+json": {
              "type": "string"
            }
          },
          "metadata": {},
          "execution_count": 272
        }
      ]
    },
    {
      "cell_type": "code",
      "source": [
        "rec_list = []\n",
        "for i in range(len(list_testtt)):\n",
        "    row = []\n",
        "    for j in range(len(list_testtt)):\n",
        "        row.append(0)\n",
        "    rec_list.append(row)"
      ],
      "metadata": {
        "id": "3wSprBnb2cKr"
      },
      "execution_count": null,
      "outputs": []
    },
    {
      "cell_type": "code",
      "source": [
        "rec_list = []"
      ],
      "metadata": {
        "id": "D-F5-8164ktc"
      },
      "execution_count": null,
      "outputs": []
    },
    {
      "cell_type": "code",
      "source": [
        "for i in range(len(list_testtt)):\n",
        "  a = str(list_hotel[list_hotel['HotelID'] == list_testtt[i]]['Name Hotel'].values).strip('[]\\'\\\\')\n",
        "  b = str(list_hotel[list_hotel['HotelID'] == list_testtt[i]]['Address'].values).strip('[]\\'\\\\')\n",
        "  c = str(list_hotel[list_hotel['HotelID'] == list_testtt[i]]['Descriptions'].values).strip('[]\\'\\\\')\n",
        "  d = str(list_hotel[list_hotel['HotelID'] == list_testtt[i]]['URL Hotel'].values).strip('[]\\'\\\\')\n",
        "  rec_list[i] = (a, b, c, d)"
      ],
      "metadata": {
        "id": "lIlyiCouw9wl"
      },
      "execution_count": null,
      "outputs": []
    },
    {
      "cell_type": "code",
      "source": [
        "rec_list[7][3]"
      ],
      "metadata": {
        "colab": {
          "base_uri": "https://localhost:8080/",
          "height": 87
        },
        "id": "ywWyHs7U4Ox1",
        "outputId": "e2a07765-518c-4e29-addf-64cc2d03c32b"
      },
      "execution_count": null,
      "outputs": [
        {
          "output_type": "execute_result",
          "data": {
            "text/plain": [
              "'https://www.booking.com/hotel/vn/sapa-panorama.vi.html?label=gen173nr-1FCAEoggI46AdIKlgEaPQBiAEBmAEquAEXyAEM2AEB6AEB-AECiAIBqAIDuALJm9ybBsACAdICJDE3MzdlYWUwLTU1ZDktNGQzNi1hMGZlLTU5MGRkZDc0ODY5MtgCBeACAQ&sid=842627633388b4367a2fb42d0ca3ab7f&aid=304142&ucfs=1&arphpl=1&dest_id=-3728113&dest_type=city&group_adults=2&req_adults=2&no_rooms=1&group_children=0&req_children=0&hpos=17&hapos=117&sr_order=popularity&srpvid=3d6a41e98136011a&srepoch=1669022548&from=searchresults#hotelTmpl'"
            ],
            "application/vnd.google.colaboratory.intrinsic+json": {
              "type": "string"
            }
          },
          "metadata": {},
          "execution_count": 354
        }
      ]
    },
    {
      "cell_type": "code",
      "source": [
        "reccomend_list = [(list_hotel[list_hotel['HotelID'] == hotelid]) for hotelid in list_testtt]"
      ],
      "metadata": {
        "id": "9FHSO79MptN5"
      },
      "execution_count": null,
      "outputs": []
    },
    {
      "cell_type": "code",
      "source": [
        "str(list_hotel[list_hotel['HotelID'] == list_testtt[1]]['Address'].values).strip('[]\\'\\\\')"
      ],
      "metadata": {
        "id": "f_NqR79S1x77"
      },
      "execution_count": null,
      "outputs": []
    },
    {
      "cell_type": "code",
      "source": [
        "len(reccomend_list)"
      ],
      "metadata": {
        "colab": {
          "base_uri": "https://localhost:8080/"
        },
        "id": "84P1AOBdsTv-",
        "outputId": "96a755d6-f394-4a5b-b2db-3192f62c1744"
      },
      "execution_count": null,
      "outputs": [
        {
          "output_type": "execute_result",
          "data": {
            "text/plain": [
              "8"
            ]
          },
          "metadata": {},
          "execution_count": 214
        }
      ]
    },
    {
      "cell_type": "code",
      "source": [
        "hotel_new['tags'][1]"
      ],
      "metadata": {
        "colab": {
          "base_uri": "https://localhost:8080/",
          "height": 122
        },
        "id": "gc6HcSIrnBIH",
        "outputId": "4663ba1b-73f0-4627-f727-dbdffb1d3e46"
      },
      "execution_count": null,
      "outputs": [
        {
          "output_type": "execute_result",
          "data": {
            "text/plain": [
              "'đà lạt tọa_lạc thành_phố đà_lạt quảng_trường lâm_viên 1 4 km hồ xuân_hương 1 6 km miền nhiệt_đới 2 hotel cung chỗ nghỉ sảnh wi fi miễn_phí toàn khuôn_viên chỗ đỗ xe miễn_phí sạn 2 dịch_vụ tiền_sảnh phòng hành_lý chỗ nghỉ cung dịch_vụ lễ_tân 24 dịch_vụ phòng tổ_chức tour du_lịch phòng nghỉ_sạn khu vư c ghế tv màn_hình phẳng kênh_truyền_hình vệ_tinh_phòng tắm đi kèm de p đi ng vòi xịt chậu rửa vệ_sinh miền nhiệt_đới 2 hotel cung phòng khu vườn phòng trang ấm đun phòng ga trải giường khăn tắm miền nhiệt_đới 2 hotel nằm công_viên yersin đà lạt 1 8 km clb golf dalat palace 2 8 km sân_bay sân_bay liên_khương nằm sạn 30 km chỗ nghỉ cung dịch_vụ đón sân_bay khoản phụ_phí 64 phan_nhu_thach ward 1 đà lạt viê t nam miền nhiệt_đới 2 hotel'"
            ],
            "application/vnd.google.colaboratory.intrinsic+json": {
              "type": "string"
            }
          },
          "metadata": {},
          "execution_count": 357
        }
      ]
    }
  ]
}